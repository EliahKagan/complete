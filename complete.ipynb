{
 "cells": [
  {
   "attachments": {},
   "cell_type": "markdown",
   "metadata": {},
   "source": [
    "# Story-writing with BLOOM\n",
    "\n",
    "SPDX-License-Identifier: 0BSD"
   ]
  },
  {
   "cell_type": "code",
   "execution_count": 1,
   "metadata": {},
   "outputs": [],
   "source": [
    "from complete import Completer"
   ]
  },
  {
   "cell_type": "code",
   "execution_count": 2,
   "metadata": {},
   "outputs": [],
   "source": [
    "bloom1 = Completer(\"\"\"\n",
    "Sometimes I marvel at how the sky contains no advertisements. Oh, sometimes\n",
    "someone goes up in a little plane and skywrites a birthday greeting. But the\n",
    "sky... you don’t have to watch an ad to see it.\n",
    "\n",
    "When people learn I fought in the war to free the sky, they say, “Thank you for\n",
    "\"\"\", temperature=1.0, top_k=30)"
   ]
  },
  {
   "cell_type": "code",
   "execution_count": 3,
   "metadata": {},
   "outputs": [
    {
     "name": "stdout",
     "output_type": "stream",
     "text": [
      "Sometimes I marvel at how the sky contains no advertisements. Oh,\n",
      "sometimes someone goes up in a little plane and skywrites a birthday\n",
      "greeting. But the sky... you don’t have to watch an ad to see it.\n",
      "\n",
      "When people learn I fought in the war to free the sky, they say,\n",
      "“Thank you for freeing the sky,” even though we didn’t fight to free\n",
      "the sky. We fought to free the land, to free the people. They’re not\n",
      "supposed to fight wars for the sky.\n",
      "\n",
      "At night, the world is a different color. And that’s because the sky\n",
      "is a different color. When I was a little boy, I learned about the sky\n",
      "from my father. My father, he was a pilot. He said once in a while,\n",
      "some boys get to fly. Some boys get to run and get to hit things. I\n",
      "was lucky, I got to do both.\n",
      "\n",
      "There are three basic kinds of people: those who live in the sky,\n",
      "those who live below the earth, and those who live between. The people\n",
      "below the earth work all day to feed the people in the sky with the\n",
      "sun, and the people in the sky feed the people between the earth and\n",
      "the sky with rain. They all live together, but they don’t know each\n",
      "other.\n",
      "\n",
      "I see the earth below the sky, green leaves floating like islands in a\n",
      "sea whose horizon is the sky. So the world is not flat: it is round,\n",
      "and the sky is round, and everything the earth grows is round. I see\n",
      "the earth is growing round, growing\n"
     ]
    }
   ],
   "source": [
    "bloom1()"
   ]
  },
  {
   "cell_type": "code",
   "execution_count": 4,
   "metadata": {},
   "outputs": [],
   "source": [
    "bloom2 = Completer(\"\"\"\n",
    "The color enforcers came around again. They ripped the cheese off our freshly\n",
    "baked pizza. The customers dropped their food and ran out.\n",
    "\n",
    "“Aha!” said the biggest, scariest henchman. “This sauce is red! We license the\n",
    "color red to you, but you haven’t been paying the license fees.” I quaked in\n",
    "fear. My grandfather had gotten both his knees busted by color enforcers.\n",
    "\"\"\")"
   ]
  },
  {
   "cell_type": "code",
   "execution_count": 5,
   "metadata": {},
   "outputs": [
    {
     "name": "stdout",
     "output_type": "stream",
     "text": [
      "The color enforcers came around again. They ripped the cheese off our\n",
      "freshly baked pizza. The customers dropped their food and ran out.\n",
      "\n",
      "“Aha!” said the biggest, scariest henchman. “This sauce is red! We\n",
      "license the color red to you, but you haven’t been paying the license\n",
      "fees.” I quaked in fear. My grandfather had gotten both his knees\n",
      "busted by color enforcers. I didn’t want to be next.\n",
      "\n",
      "But the hu- man resources manager stepped forward. “We use the color\n",
      "red as a warning signal for hot food. We don’t want to give people a\n",
      "heart attack.”\n",
      "\n",
      "The enforcers looked at each other. “You’re right. We apologize for\n",
      "any inconvenience,” they said. They set their guns on the counter,\n",
      "black with the color of red. I breathed a sigh of relief.\n",
      "\n",
      "The human resources manager smiled. “We’re happy to license the color\n",
      "red to you. As for the license fees, we will waive the fine.”\n",
      "\n",
      "“Oh, you don’t have to pay,” the enforcers said. They reached into\n",
      "their pockets and pulled out a big wad of cash. “Here. Put it in our\n",
      "red pockets.”\n",
      "\n",
      "We sat on the curb in front of the restaurant, eating the leftover\n",
      "cheese pizza and salads. We didn’t have any money, but that didn’t\n",
      "matter. We had license our color to the human resources manager.\n"
     ]
    }
   ],
   "source": [
    "bloom2()"
   ]
  },
  {
   "cell_type": "code",
   "execution_count": 6,
   "metadata": {},
   "outputs": [],
   "source": [
    "bloom3 = Completer(\"\"\"\n",
    "Beverly understood how all the women in her family had fallen in love with this\n",
    "energy ghost who lived in a lamp and fed parasitically off their vital energy\n",
    "while making every carnal dream come to life. As a spacefaring physician,\n",
    "\"\"\")"
   ]
  },
  {
   "cell_type": "code",
   "execution_count": 7,
   "metadata": {},
   "outputs": [
    {
     "name": "stdout",
     "output_type": "stream",
     "text": [
      "Beverly understood how all the women in her family had fallen in love\n",
      "with this energy ghost who lived in a lamp and fed parasitically off\n",
      "their vital energy while making every carnal dream come to life. As a\n",
      "spacefaring physician, Beverly knew from a young age that parasitic\n",
      "energy ghosts were extremely common throughout the known universe, and\n",
      "were often found in the most unlikely places. Any object that is used\n",
      "to store energy, like a dynamo or a battery, could hold a parasitic\n",
      "energy ghost if the energy it stored was not properly disposed of, or\n",
      "if it was partially used up.\n",
      "\n",
      "On a planet where most people live in extremely poor conditions, and\n",
      "very few reach old age, parasitic energy ghosts were all too common.\n",
      "In some cultures, they didn’t even know they existed. On the other\n",
      "hand, in very rich societies like Terra, which has a very high\n",
      "standard of living and a high life expectancy, parasitic energy ghosts\n",
      "were less common. In fact, it wasn’t long before the energy ghost\n",
      "inside the lamp was replaced with an energy ghost from an artificial\n",
      "heart implant.\n",
      "\n",
      "After a moment’s silence, Beverly corrected me. “They’re called\n",
      "parasitic energy ghosts. They could be anything from a hairbrush to a\n",
      "mass transit system.”\n",
      "\n",
      "“In most cases, it’s something like a spaceship. The energy ghost\n",
      "inside a spaceship would likely be a result of the ship’s power\n",
      "generator, but on an artificial heart it would be\n"
     ]
    }
   ],
   "source": [
    "bloom3()"
   ]
  },
  {
   "cell_type": "code",
   "execution_count": 8,
   "metadata": {},
   "outputs": [],
   "source": [
    "# From https://aclanthology.org/2020.acl-main.463.pdf, Appendix A.\n",
    "bloom4 = Completer(\"\"\"\n",
    "Robinson cried out, “Help! I’m being chased by a bear! All I have is these\n",
    "sticks. What should I do?” The survivalist said, “Here’s what you can do.\n",
    "\"\"\")"
   ]
  },
  {
   "cell_type": "code",
   "execution_count": 9,
   "metadata": {},
   "outputs": [
    {
     "name": "stdout",
     "output_type": "stream",
     "text": [
      "Robinson cried out, “Help! I’m being chased by a bear! All I have is\n",
      "these sticks. What should I do?” The survivalist said, “Here’s what\n",
      "you can do. You can throw these sticks into the air and wave them, and\n",
      "it will appear like a bear attacking you.”\n",
      "\n",
      "When Robinson threw the sticks into the air, the dog ran over to them\n",
      "and began to howl and bark at them. Robinson threw another stick, and\n",
      "the dog ran over to it, barking at it. Robinson threw another stick\n",
      "and the dog ran over to it again, barking at it. Robinson threw\n",
      "another stick, and the dog ran over to it again, barking at it again.\n",
      "Robinson threw another stick, and the dog kept running at it, barking\n",
      "at it.\n",
      "\n",
      "The survivalist was amazed. He said, “Your dog is very intelligent.”\n",
      "Robinson told him, “Yes, he is. But he’s not the only one that is\n",
      "intelligent. I am intelligent, too. I could have taught that dog to\n",
      "howl, bark, and run at a stick. But he wouldn’t have learned how to\n",
      "run at a stick if I hadn’t thrown it in the air first.”\n",
      "\n",
      "That is how we teach our pets to do things. We have to throw them the\n",
      "stick. Then they will do what we want them to do. Jesus did the same\n",
      "thing for us. He\n"
     ]
    }
   ],
   "source": [
    "bloom4()"
   ]
  },
  {
   "cell_type": "code",
   "execution_count": null,
   "metadata": {},
   "outputs": [],
   "source": []
  }
 ],
 "metadata": {
  "kernelspec": {
   "display_name": "complete-OCGV64OY",
   "language": "python",
   "name": "python3"
  },
  "language_info": {
   "codemirror_mode": {
    "name": "ipython",
    "version": 3
   },
   "file_extension": ".py",
   "mimetype": "text/x-python",
   "name": "python",
   "nbconvert_exporter": "python",
   "pygments_lexer": "ipython3",
   "version": "3.11.5"
  },
  "orig_nbformat": 4,
  "vscode": {
   "interpreter": {
    "hash": "2e7d42f8e86dbfe711bd671ab1851195badbe7a0e04157c9a4b4633af7ecfff9"
   }
  }
 },
 "nbformat": 4,
 "nbformat_minor": 2
}
