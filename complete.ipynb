{
 "cells": [
  {
   "cell_type": "code",
   "execution_count": 1,
   "metadata": {},
   "outputs": [],
   "source": [
    "import functools\n",
    "import random\n",
    "import textwrap\n",
    "\n",
    "from huggingface_hub import InferenceApi"
   ]
  },
  {
   "cell_type": "code",
   "execution_count": 2,
   "metadata": {},
   "outputs": [],
   "source": [
    "class CompletionError(Exception):\n",
    "    \"\"\"An error in attempting to complete text with BLOOM.\"\"\"\n",
    "    pass"
   ]
  },
  {
   "cell_type": "code",
   "execution_count": 3,
   "metadata": {},
   "outputs": [],
   "source": [
    "class UnexpectedResponseError(AssertionError):\n",
    "    \"\"\"An unexpected error completing text. Probably a bug.\"\"\"\n",
    "    pass"
   ]
  },
  {
   "cell_type": "code",
   "execution_count": 4,
   "metadata": {},
   "outputs": [],
   "source": [
    "class Supplier:\n",
    "    \"\"\"As the value of a BLOOM parameter, is called instead of used.\"\"\"\n",
    "\n",
    "    __slots__ = ('_func',)\n",
    "\n",
    "    __match_args__ = ('_func',)\n",
    "\n",
    "    def __init__(self, func):\n",
    "        self._func = func\n",
    "    \n",
    "    def __repr__(self):\n",
    "        return f'{type(self).__name__}({self._func!r})'\n",
    "    \n",
    "    def __call__(self):\n",
    "        return self._func()"
   ]
  },
  {
   "cell_type": "code",
   "execution_count": 5,
   "metadata": {},
   "outputs": [],
   "source": [
    "@functools.cache\n",
    "def _get_inference_api():\n",
    "    with open('.hf_token', encoding='utf-8') as file:\n",
    "        api_token = file.read().strip()\n",
    "\n",
    "    return InferenceApi(repo_id='bigscience/bloom', token=api_token)"
   ]
  },
  {
   "cell_type": "code",
   "execution_count": 6,
   "metadata": {},
   "outputs": [],
   "source": [
    "class Completer:\n",
    "    \"\"\"High-level interface to Bloom completion.\"\"\"\n",
    "\n",
    "    __slots__ = ('_inference', '_text', '__dict__')\n",
    "\n",
    "    def __init__(self, prompt, **parameters):\n",
    "        \"\"\"Create a completer for the given prompt and optional parameters.\"\"\"\n",
    "        self._inference = _get_inference_api()\n",
    "        self.text = prompt\n",
    "\n",
    "        if any(name.startswith('_') for name in parameters):\n",
    "            raise TypeError('cannot set parameter name with leading \"_\"')\n",
    "        \n",
    "        self._set_defaults()\n",
    "        self.__dict__.update(parameters)\n",
    "\n",
    "    def __str__(self):\n",
    "        \"\"\"Prettified version of the text stored so far.\"\"\"\n",
    "        raw = self.text.strip().split('\\n')\n",
    "        pretty = ('\\n'.join(textwrap.wrap(graf)) for graf in raw)\n",
    "        return '\\n\\n'.join(pretty)\n",
    "    \n",
    "    @property\n",
    "    def text(self):\n",
    "        \"\"\"The prompt plus any appended completions.\"\"\"\n",
    "        return self._text\n",
    "    \n",
    "    @text.setter\n",
    "    def text(self, value):\n",
    "        if not isinstance(value, str):\n",
    "            raise TypeError('prompt must be a string')\n",
    "        if not value:\n",
    "            raise ValueError('prompt must be nonempty')\n",
    "        self._text = value\n",
    "\n",
    "    def __call__(self):\n",
    "        \"\"\"Attempt to complete the stored text, and print all text so far.\"\"\"\n",
    "        self.complete()\n",
    "        print(self)\n",
    "    \n",
    "    def complete(self):\n",
    "        \"\"\"Attempt to complete the stored text, but do not print anything.\"\"\"\n",
    "        match self._inference(inputs=self.text, params=self._build_params()):\n",
    "            case [{'generated_text': completion}]:\n",
    "                self._text = completion  # Whatever BLOOM returns, we accept.\n",
    "            case {'error': [*errors]}:\n",
    "                raise CompletionError(*errors)\n",
    "            case other_response:\n",
    "                raise UnexpectedResponseError(other_response)\n",
    "    \n",
    "    def _set_defaults(self):\n",
    "        self.do_sample = True\n",
    "        self.max_new_tokens = 250\n",
    "        self.seed = Supplier(random.random)\n",
    "        self.temperature = 0.75\n",
    "    \n",
    "    def _build_params(self):\n",
    "        return {name: (value() if isinstance(value, Supplier) else value)\n",
    "                for name, value in sorted(self.__dict__.items())}\n"
   ]
  },
  {
   "cell_type": "code",
   "execution_count": 29,
   "metadata": {},
   "outputs": [],
   "source": [
    "bloom1 = Completer(\"\"\"\n",
    "The color enforcers came around again. They ripped the cheese off our freshly\n",
    "baked pizza. The customers dropped their food and ran out.\n",
    "\n",
    "\"Aha!\" said the biggest, scariest henchman. \"This sauce is red! We license the\n",
    "color red to you, but you haven't been paying the license fees.\" I quaked in\n",
    "fear. My grandfather had gotten both his knees busted by color enforcers.\n",
    "\"\"\".strip().replace('\\n', ' ').replace('  ', '\\n'))"
   ]
  },
  {
   "cell_type": "code",
   "execution_count": 30,
   "metadata": {},
   "outputs": [
    {
     "name": "stdout",
     "output_type": "stream",
     "text": [
      "The color enforcers came around again. They ripped the cheese off our\n",
      "freshly baked pizza. The customers dropped their food and ran out.\n",
      "\n",
      "\"Aha!\" said the biggest, scariest henchman. \"This sauce is red! We\n",
      "license the color red to you, but you haven't been paying the license\n",
      "fees.\" I quaked in fear. My grandfather had gotten both his knees\n",
      "busted by color enforcers. The henchman waved a large piece of paper\n",
      "(I figured it was a license). \"We can give you a head start, but\n",
      "you'll have to pay off this outstanding debt.\"\n",
      "\n",
      "\"No problem!\" said my grandfather. He whipped out his wallet. \"This\n",
      "will get you started.\" He handed over a crisp, twenty-dollar bill.\n",
      "\n",
      "\"Really!\" said the henchman. \"I didn't realize what a generous company\n",
      "you run. And that pizza was amazing!\"\n",
      "\n",
      "I was an executive of a prestigious software company in Seattle. I\n",
      "worked on the Internet Explorer team, and we were in the middle of\n",
      "improving web standards. We had heard about the standards and were\n",
      "testing them.\n",
      "\n",
      "\"We heard about the new standards from our friends at Google,\" said\n",
      "one of the developers, \"but we can't get them to work.\"\n",
      "\n",
      "\"We should expect a certain amount of bumps in the road,\" I said. \"I\n",
      "know it's going to be hard, but if we persevere, we can get it done.\"\n",
      "\n",
      "\"It doesn't work,\" said the developer. \"We call it, and it comes back\n",
      "right away. The page isn't even loaded.\"\n",
      "\n",
      "\"That's pretty strange,\" I\n"
     ]
    }
   ],
   "source": [
    "bloom1()"
   ]
  },
  {
   "cell_type": "code",
   "execution_count": 9,
   "metadata": {},
   "outputs": [],
   "source": [
    "bloom2 = Completer(\"\"\"\n",
    "Beverly understood how all the women in her family had fallen in love with this\n",
    "energy ghost who lived in a lamp and fed parasitically off their vital energy\n",
    "while making every carnal dream come to life. As a spacefaring physician\n",
    "\"\"\".strip().replace('\\n', ' '))"
   ]
  },
  {
   "cell_type": "code",
   "execution_count": 10,
   "metadata": {},
   "outputs": [
    {
     "name": "stdout",
     "output_type": "stream",
     "text": [
      "Beverly understood how all the women in her family had fallen in love\n",
      "with this energy ghost who lived in a lamp and fed parasitically off\n",
      "their vital energy while making every carnal dream come to life. As a\n",
      "spacefaring physician, Beverly could tell that this energy ghost was\n",
      "not even remotely healthy. It was far too focused on its own pleasure\n",
      "and self-growth, and the people connected to it suffered. She could\n",
      "also see that, by feeding off her vital energy, it was making its host\n",
      "more sick than ever.\n",
      "\n",
      "Beverly found she could not continue to focus on the patient as the\n",
      "energy ghost started to close in on her. She could feel the ghost’s\n",
      "presence binding her to her bed, and she was surprised by the sudden\n",
      "surge of adrenaline that caused her to rage at it. She suddenly\n",
      "started screaming, “You will not have this body!”\n",
      "\n",
      "Beverly knew that the energy ghost could pick up on the most subtle of\n",
      "emotions, but she also knew that the more energy she used to fight the\n",
      "ghost, the more the ghost would feed off her. The energy ghost was an\n",
      "entity that had been floating around for centuries, and her rage and\n",
      "anger were a small meal for it. It was ignored her yelling.\n",
      "\n",
      "Beverly could feel the energy ghost’s presence fading, but then\n",
      "suddenly she felt it growing in strength once again. She was shocked\n",
      "to see the energy ghost begin to pour more energy into her body, and\n",
      "the\n"
     ]
    }
   ],
   "source": [
    "bloom2()"
   ]
  },
  {
   "cell_type": "code",
   "execution_count": 21,
   "metadata": {},
   "outputs": [],
   "source": [
    "# From https://aclanthology.org/2020.acl-main.463.pdf, Appendix A.\n",
    "bloom3 = Completer(\"\"\"\n",
    "Robinson cried out, “Help! I’m being chased by a bear! All I have is these\n",
    "sticks. What should I do?” The survivalist said, “Here’s what you can do.\n",
    "\"\"\".strip().replace('\\n', ' '))"
   ]
  },
  {
   "cell_type": "code",
   "execution_count": 22,
   "metadata": {},
   "outputs": [
    {
     "name": "stdout",
     "output_type": "stream",
     "text": [
      "Robinson cried out, “Help! I’m being chased by a bear! All I have is\n",
      "these sticks. What should I do?” The survivalist said, “Here’s what\n",
      "you can do.” “Throw one stick behind you. It’s a bear!” “Throw another\n",
      "stick behind you. It’s a bear!” and “Throw another stick behind you.\n",
      "It’s a bear!” Before they knew it, he was surrounded by hundreds of\n",
      "other young men with sticks. He ran for his life! “Why did you do\n",
      "that?” they yelled at him. “You told me to!” said the survivalist. Tim\n",
      "Robinson had learned to follow orders without thinking.\n",
      "\n",
      "Shows how easily we can be manipulated into doing what we would not\n",
      "normally do! And what about the fake news media? Many people believe\n",
      "everything they read, even though they know it’s not true! If we don’t\n",
      "learn and train our brains to recognize, stop, and think before we\n",
      "respond, we will be manipulated and bullied and controlled by others!\n",
      "\n",
      "Shows how easily we can be manipulated into doing what we would not\n",
      "normally do! And what about the fake news media? Many people believe\n",
      "everything they read, even though they know it’s not true! If we don’t\n",
      "learn and train our brains to recognize, stop, and think before we\n",
      "respond, we will be manipulated and bullied and controlled by others!\n",
      "This is your brain on survival!\n"
     ]
    }
   ],
   "source": [
    "bloom3()"
   ]
  },
  {
   "cell_type": "code",
   "execution_count": null,
   "metadata": {},
   "outputs": [],
   "source": []
  }
 ],
 "metadata": {
  "kernelspec": {
   "display_name": "complete",
   "language": "python",
   "name": "python3"
  },
  "language_info": {
   "codemirror_mode": {
    "name": "ipython",
    "version": 3
   },
   "file_extension": ".py",
   "mimetype": "text/x-python",
   "name": "python",
   "nbconvert_exporter": "python",
   "pygments_lexer": "ipython3",
   "version": "3.11.0"
  },
  "orig_nbformat": 4,
  "vscode": {
   "interpreter": {
    "hash": "13c63dc78b483a1ea0bb4a72b50807d934daf9a79a145afd27a0baef18604501"
   }
  }
 },
 "nbformat": 4,
 "nbformat_minor": 2
}
