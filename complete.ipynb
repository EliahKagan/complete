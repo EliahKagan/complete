{
 "cells": [
  {
   "attachments": {},
   "cell_type": "markdown",
   "metadata": {},
   "source": [
    "# Story-writing with BLOOM\n",
    "\n",
    "SPDX-License-Identifier: 0BSD"
   ]
  },
  {
   "cell_type": "code",
   "execution_count": 1,
   "metadata": {},
   "outputs": [],
   "source": [
    "from complete import Completer"
   ]
  },
  {
   "cell_type": "code",
   "execution_count": 2,
   "metadata": {},
   "outputs": [],
   "source": [
    "bloom1 = Completer(\"\"\"\n",
    "Sometimes I marvel at how the sky contains no advertisements. Oh, sometimes\n",
    "someone goes up in a little plane and skywrites a birthday greeting. But the\n",
    "sky... you don't have to watch an ad to see it.\n",
    "\n",
    "When people learn I fought in the war to free the sky, they say, \"Thank you for\n",
    "\"\"\", temperature=1.0, top_k=30)"
   ]
  },
  {
   "cell_type": "code",
   "execution_count": 3,
   "metadata": {},
   "outputs": [
    {
     "name": "stdout",
     "output_type": "stream",
     "text": [
      "Sometimes I marvel at how the sky contains no advertisements. Oh,\n",
      "sometimes someone goes up in a little plane and skywrites a birthday\n",
      "greeting. But the sky... you don't have to watch an ad to see it.\n",
      "\n",
      "When people learn I fought in the war to free the sky, they say,\n",
      "\"Thank you for defending God's playground.\" I say, \"No, no... it's our\n",
      "playground. If the sky had a fence and a gate, I wouldn't have been a\n",
      "part of this mission. So we don't have fences. And we don't have\n",
      "gates. We let people wander.\"\n",
      "\n",
      "Sometimes, when I look around the world, I think: is there any place\n",
      "on Earth where children can play without their toys and prizes and\n",
      "cars and planes and money? Is there any place on Earth where children\n",
      "live without a television, where they don't watch an ad all day long?\n",
      "And then I look up at the sky and say... there is no such thing as a\n",
      "\"commercial sky.\" If the sky is God's playground, and the sky is also\n",
      "our playground, then the sky belongs to children. And children don't\n",
      "live to advertise; the world does.\n",
      "\n",
      "I was a kid, once... just like you. I used to live up there, and\n",
      "sometimes I used to play up there. I used to walk on the ground, and\n",
      "sometimes, even, I'd walk around with a human child. And when I looked\n",
      "at the sky, when I played up in the clouds, it was always beautiful.\n",
      "Even the most mundane clouds were always beautiful.\n"
     ]
    }
   ],
   "source": [
    "bloom1()"
   ]
  },
  {
   "cell_type": "code",
   "execution_count": 4,
   "metadata": {},
   "outputs": [],
   "source": [
    "bloom2 = Completer(\"\"\"\n",
    "The color enforcers came around again. They ripped the cheese off our freshly\n",
    "baked pizza. The customers dropped their food and ran out.\n",
    "\n",
    "\"Aha!\" said the biggest, scariest henchman. \"This sauce is red! We license the\n",
    "color red to you, but you haven't been paying the license fees.\" I quaked in\n",
    "fear. My grandfather had gotten both his knees busted by color enforcers.\n",
    "\"\"\")"
   ]
  },
  {
   "cell_type": "code",
   "execution_count": 5,
   "metadata": {},
   "outputs": [
    {
     "name": "stdout",
     "output_type": "stream",
     "text": [
      "The color enforcers came around again. They ripped the cheese off our\n",
      "freshly baked pizza. The customers dropped their food and ran out.\n",
      "\n",
      "\"Aha!\" said the biggest, scariest henchman. \"This sauce is red! We\n",
      "license the color red to you, but you haven't been paying the license\n",
      "fees.\" I quaked in fear. My grandfather had gotten both his knees\n",
      "busted by color enforcers. He'd never been able to work again. And my\n",
      "grandma was already cold in her grave.\n",
      "\n",
      "I thought about my son's pizza. It was brown, which wasn't on the\n",
      "approved list! I was about to cry when one of the enforcers looked at\n",
      "the box.\n",
      "\n",
      "My grandpa would have been proud of me. I filed a complaint with the\n",
      "government. The new local representative, a legislator named Philando,\n",
      "listened to my story and saw the injustice. He immediately brought a\n",
      "bill to Congress, demanding that the color enforcers turn over their\n",
      "licenses to the manufacturers. Now if the manufacturers had to pay a\n",
      "fee for each color, it would be fair. The color enforcers were a group\n",
      "of corrupt bureaucrats. And the color queens, who made all of the\n",
      "rules, were all three-bit con artists. I couldn't believe that they\n",
      "had been making money off of colors for years!\n",
      "\n",
      "\"I'm listening,\" said Philando. I told him all about the color\n",
      "enforcers. \"Heads up!\" he said. \"There's an old tie-dye factory in our\n",
      "district that's about to go under. Let me take care of that.\"\n",
      "\n",
      "After Philando had snatched up the factory, he hired all of the tie\n"
     ]
    }
   ],
   "source": [
    "bloom2()"
   ]
  },
  {
   "cell_type": "code",
   "execution_count": 6,
   "metadata": {},
   "outputs": [],
   "source": [
    "bloom3 = Completer(\"\"\"\n",
    "Beverly understood how all the women in her family had fallen in love with this\n",
    "energy ghost who lived in a lamp and fed parasitically off their vital energy\n",
    "while making every carnal dream come to life. As a spacefaring physician,\n",
    "\"\"\")"
   ]
  },
  {
   "cell_type": "code",
   "execution_count": 7,
   "metadata": {},
   "outputs": [
    {
     "name": "stdout",
     "output_type": "stream",
     "text": [
      "Beverly understood how all the women in her family had fallen in love\n",
      "with this energy ghost who lived in a lamp and fed parasitically off\n",
      "their vital energy while making every carnal dream come to life. As a\n",
      "spacefaring physician, she had seen how the energy source was used to\n",
      "fuel the ships of the mindless hordes of the Draconian Empire, but she\n",
      "had never seen it used for something as benign as a lamp. She had\n",
      "studied the true nature of the entity, discovering that it was created\n",
      "from the Quarantine Zone as part of a biological defense shield used\n",
      "to quarantine the Zone from the rest of the universe. It was a part of\n",
      "the living energy of the Zone itself, and had been created from the\n",
      "same material as the Zone. It was programmed to feed on energy and was\n",
      "designed to be destroyed if it left the Zone. It could never be\n",
      "killed, only disarmed. Its power was so great that it was all but\n",
      "impossible to do so, which was why the Draconian Empire had been so\n",
      "eager for it to get out of the Zone.\n",
      "\n",
      "The Draconian Empire was using this entity to enslave the women of the\n",
      "family. They were using it to draw power from the Zone for their war\n",
      "machines, the most powerful war machines ever seen the galaxy. It was\n",
      "a part of the same technology that the Empire used to fight the\n",
      "Quarantine Zone. They had used it to invade other worlds and to create\n",
      "the most\n"
     ]
    }
   ],
   "source": [
    "bloom3()"
   ]
  },
  {
   "cell_type": "code",
   "execution_count": 8,
   "metadata": {},
   "outputs": [],
   "source": [
    "# From https://aclanthology.org/2020.acl-main.463.pdf, Appendix A.\n",
    "bloom4 = Completer(\"\"\"\n",
    "Robinson cried out, “Help! I’m being chased by a bear! All I have is these\n",
    "sticks. What should I do?” The survivalist said, “Here’s what you can do.\n",
    "\"\"\")"
   ]
  },
  {
   "cell_type": "code",
   "execution_count": 9,
   "metadata": {},
   "outputs": [
    {
     "name": "stdout",
     "output_type": "stream",
     "text": [
      "Robinson cried out, “Help! I’m being chased by a bear! All I have is\n",
      "these sticks. What should I do?” The survivalist said, “Here’s what\n",
      "you can do. Stand still and in the meantime, take these sticks.” The\n",
      "man did just that and the bear eventually went away.\n"
     ]
    }
   ],
   "source": [
    "bloom4()"
   ]
  },
  {
   "cell_type": "code",
   "execution_count": null,
   "metadata": {},
   "outputs": [],
   "source": []
  }
 ],
 "metadata": {
  "kernelspec": {
   "display_name": "complete-OCGV64OY",
   "language": "python",
   "name": "python3"
  },
  "language_info": {
   "codemirror_mode": {
    "name": "ipython",
    "version": 3
   },
   "file_extension": ".py",
   "mimetype": "text/x-python",
   "name": "python",
   "nbconvert_exporter": "python",
   "pygments_lexer": "ipython3",
   "version": "3.11.1"
  },
  "orig_nbformat": 4,
  "vscode": {
   "interpreter": {
    "hash": "2e7d42f8e86dbfe711bd671ab1851195badbe7a0e04157c9a4b4633af7ecfff9"
   }
  }
 },
 "nbformat": 4,
 "nbformat_minor": 2
}
