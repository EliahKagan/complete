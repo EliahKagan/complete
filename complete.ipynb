{
 "cells": [
  {
   "attachments": {},
   "cell_type": "markdown",
   "metadata": {},
   "source": [
    "# Story-writing with BLOOM\n",
    "\n",
    "SPDX-License-Identifier: 0BSD"
   ]
  },
  {
   "cell_type": "code",
   "execution_count": 1,
   "metadata": {},
   "outputs": [],
   "source": [
    "from collections.abc import Callable\n",
    "import functools\n",
    "import random\n",
    "import re\n",
    "import textwrap\n",
    "from typing import Any\n",
    "\n",
    "from huggingface_hub import InferenceApi"
   ]
  },
  {
   "cell_type": "code",
   "execution_count": 2,
   "metadata": {},
   "outputs": [
    {
     "data": {
      "text/plain": [
       "'Regular expression matching a paragraph break.'"
      ]
     },
     "execution_count": 2,
     "metadata": {},
     "output_type": "execute_result"
    }
   ],
   "source": [
    "_PARA_BREAK = re.compile(r'\\n{2,}')\n",
    "\"\"\"Regular expression matching a paragraph break.\"\"\""
   ]
  },
  {
   "cell_type": "code",
   "execution_count": 3,
   "metadata": {},
   "outputs": [],
   "source": [
    "class CompletionError(Exception):\n",
    "    \"\"\"An error in attempting to complete text with BLOOM.\"\"\"\n",
    "    pass"
   ]
  },
  {
   "cell_type": "code",
   "execution_count": 4,
   "metadata": {},
   "outputs": [],
   "source": [
    "class UnexpectedResponseError(AssertionError):\n",
    "    \"\"\"An unexpected error completing text. Probably a bug.\"\"\"\n",
    "    pass"
   ]
  },
  {
   "cell_type": "code",
   "execution_count": 5,
   "metadata": {},
   "outputs": [],
   "source": [
    "class Supplier:\n",
    "    \"\"\"As the value of a BLOOM parameter, is called instead of used.\"\"\"\n",
    "\n",
    "    __slots__ = ('_func',)\n",
    "\n",
    "    __match_args__ = ('_func',)\n",
    "\n",
    "    def __init__(self, func: Callable[[], Any]) -> None:\n",
    "        self._func = func\n",
    "    \n",
    "    def __repr__(self) -> str:\n",
    "        return f'{type(self).__name__}({self._func!r})'\n",
    "    \n",
    "    def __call__(self) -> Any:\n",
    "        return self._func()"
   ]
  },
  {
   "cell_type": "code",
   "execution_count": 6,
   "metadata": {},
   "outputs": [],
   "source": [
    "@functools.cache\n",
    "def _get_inference_api() -> InferenceApi:\n",
    "    with open('.hf_token', encoding='utf-8') as file:\n",
    "        api_token = file.read().strip()\n",
    "\n",
    "    return InferenceApi(repo_id='bigscience/bloom', token=api_token)"
   ]
  },
  {
   "cell_type": "code",
   "execution_count": 7,
   "metadata": {},
   "outputs": [],
   "source": [
    "def _normalize_paragraphs(text: str) -> str:\n",
    "    \"\"\"Remove any hard wrapping and separate paragraphs by single newlines.\"\"\"\n",
    "    pretty = _PARA_BREAK.split(text)\n",
    "    raw = (para.strip().replace('\\n', ' ') for para in pretty)\n",
    "    return '\\n'.join(raw)"
   ]
  },
  {
   "cell_type": "code",
   "execution_count": 8,
   "metadata": {},
   "outputs": [],
   "source": [
    "def _prettify_paragraphs(text: str) -> str:\n",
    "    \"\"\"Add hard wrapping and separate paragraphs by blank lines.\"\"\"\n",
    "    raw = text.strip().split('\\n')\n",
    "    pretty = ('\\n'.join(textwrap.wrap(graf)) for graf in raw)\n",
    "    return '\\n\\n'.join(pretty)"
   ]
  },
  {
   "cell_type": "code",
   "execution_count": 9,
   "metadata": {},
   "outputs": [],
   "source": [
    "class Completer:\n",
    "    \"\"\"High-level interface to Bloom completion.\"\"\"\n",
    "\n",
    "    __slots__ = ('_inference', '_text', '__dict__')\n",
    "\n",
    "    def __init__(self, prompt: str, **parameters: Any) -> None:\n",
    "        \"\"\"Create a completer for the given prompt and optional parameters.\"\"\"\n",
    "        self._inference = _get_inference_api()\n",
    "        self.text = _normalize_paragraphs(prompt)\n",
    "\n",
    "        if any(name.startswith('_') for name in parameters):\n",
    "            raise TypeError('cannot set parameter name with leading \"_\"')\n",
    "        \n",
    "        self._set_defaults()\n",
    "        self.__dict__.update(parameters)\n",
    "\n",
    "    def __str__(self) -> str:\n",
    "        \"\"\"Prettified version of the text stored so far.\"\"\"\n",
    "        return _prettify_paragraphs(self.text)\n",
    "    \n",
    "    @property\n",
    "    def text(self) -> str:\n",
    "        \"\"\"The prompt plus any appended completions.\"\"\"\n",
    "        return self._text\n",
    "    \n",
    "    @text.setter\n",
    "    def text(self, value: str) -> None:\n",
    "        if not isinstance(value, str):\n",
    "            raise TypeError('prompt must be a string')\n",
    "        if not value:\n",
    "            raise ValueError('prompt must be nonempty')\n",
    "        self._text = value\n",
    "\n",
    "    def __call__(self) -> None:\n",
    "        \"\"\"Attempt to complete the stored text, and print all text so far.\"\"\"\n",
    "        self.complete()\n",
    "        print(self)\n",
    "    \n",
    "    def complete(self) -> None:\n",
    "        \"\"\"Attempt to complete the stored text, but do not print anything.\"\"\"\n",
    "        match self._inference(inputs=self.text, params=self._build_params()):\n",
    "            case [{'generated_text': completion}]:\n",
    "                self._text = completion  # Whatever BLOOM returns, we accept.\n",
    "            case {'error': [*errors]}:\n",
    "                raise CompletionError(*errors)\n",
    "            case other_response:\n",
    "                raise UnexpectedResponseError(other_response)\n",
    "    \n",
    "    def _set_defaults(self) -> None:\n",
    "        self.do_sample = True\n",
    "        self.max_new_tokens = 250\n",
    "        self.seed = Supplier(random.random)\n",
    "        self.temperature = 0.75\n",
    "    \n",
    "    def _build_params(self) -> dict[str, Any]:\n",
    "        return {name: (value() if isinstance(value, Supplier) else value)\n",
    "                for name, value in sorted(self.__dict__.items())}"
   ]
  },
  {
   "cell_type": "code",
   "execution_count": 10,
   "metadata": {},
   "outputs": [],
   "source": [
    "bloom1 = Completer(\"\"\"\n",
    "Sometimes I marvel at how the sky contains no advertisements. Oh, sometimes\n",
    "someone goes up in a little plane and skywrites a birthday greeting. But the\n",
    "sky... you don't have to watch an ad to see it.\n",
    "\n",
    "When people learn I fought in the war to free the sky, they say, \"Thank you for\n",
    "\"\"\", temperature=1.0, top_k=30)"
   ]
  },
  {
   "cell_type": "code",
   "execution_count": 11,
   "metadata": {},
   "outputs": [
    {
     "name": "stdout",
     "output_type": "stream",
     "text": [
      "Sometimes I marvel at how the sky contains no advertisements. Oh,\n",
      "sometimes someone goes up in a little plane and skywrites a birthday\n",
      "greeting. But the sky... you don't have to watch an ad to see it.\n",
      "\n",
      "When people learn I fought in the war to free the sky, they say,\n",
      "\"Thank you for not having ads.\" I'm sorry for that, but I don't really\n",
      "see it that way. I thought the sky was just a big, good field,\n",
      "something for nothing. And that's what I fought for, not to keep it\n",
      "free of commercial messages.\n",
      "\n",
      "This is not true. My company has a television advertising budget. We\n",
      "have a website that's full of advertisements. I don't even watch any\n",
      "TV. But the fact is that advertisers pay us for the right to display\n",
      "their ads. And we don't get it for nothing - we have to run an ad.\n",
      "\n",
      "Our ad server collects a lot of data about the ads that run, and the\n",
      "devices that run them, and how many people they reach. One thing it's\n",
      "amazing at doing is giving you a good idea of how many ads people see.\n",
      "(To be precise, it counts an ad as a \"view\" when 50% or more of the ad\n",
      "becomes visible to the user, but I'm using \"view\" interchangeably with\n",
      "\"display\" in all the charts below.)\n",
      "\n",
      "I was talking with a friend at AdMob, and we came up with some\n",
      "interesting stuff together. What you have just seen was a chart of the\n",
      "number of views our ad server saw from phones, over time.\n"
     ]
    }
   ],
   "source": [
    "bloom1()"
   ]
  },
  {
   "cell_type": "code",
   "execution_count": 12,
   "metadata": {},
   "outputs": [],
   "source": [
    "bloom2 = Completer(\"\"\"\n",
    "The color enforcers came around again. They ripped the cheese off our freshly\n",
    "baked pizza. The customers dropped their food and ran out.\n",
    "\n",
    "\"Aha!\" said the biggest, scariest henchman. \"This sauce is red! We license the\n",
    "color red to you, but you haven't been paying the license fees.\" I quaked in\n",
    "fear. My grandfather had gotten both his knees busted by color enforcers.\n",
    "\"\"\")"
   ]
  },
  {
   "cell_type": "code",
   "execution_count": 13,
   "metadata": {},
   "outputs": [
    {
     "name": "stdout",
     "output_type": "stream",
     "text": [
      "The color enforcers came around again. They ripped the cheese off our\n",
      "freshly baked pizza. The customers dropped their food and ran out.\n",
      "\n",
      "\"Aha!\" said the biggest, scariest henchman. \"This sauce is red! We\n",
      "license the color red to you, but you haven't been paying the license\n",
      "fees.\" I quaked in fear. My grandfather had gotten both his knees\n",
      "busted by color enforcers. Now they were coming for me.\n",
      "\n",
      "Just then the pizza chef came out. He had a big, red mustache and a\n",
      "red shirt. He was a real badass. He kicked the color enforcer right in\n",
      "the groin. I felt so proud that I was his granddaughter.\n",
      "\n",
      "The enforcer fell to the ground, groaning. We ran out of the other\n",
      "door. The owner of the restaurant was waiting for us. I felt like I\n",
      "was in a movie.\n"
     ]
    }
   ],
   "source": [
    "bloom2()"
   ]
  },
  {
   "cell_type": "code",
   "execution_count": 14,
   "metadata": {},
   "outputs": [],
   "source": [
    "bloom3 = Completer(\"\"\"\n",
    "Beverly understood how all the women in her family had fallen in love with this\n",
    "energy ghost who lived in a lamp and fed parasitically off their vital energy\n",
    "while making every carnal dream come to life. As a spacefaring physician,\n",
    "\"\"\")"
   ]
  },
  {
   "cell_type": "code",
   "execution_count": 15,
   "metadata": {},
   "outputs": [
    {
     "name": "stdout",
     "output_type": "stream",
     "text": [
      "Beverly understood how all the women in her family had fallen in love\n",
      "with this energy ghost who lived in a lamp and fed parasitically off\n",
      "their vital energy while making every carnal dream come to life. As a\n",
      "spacefaring physician, she knew that the phi’s energy was derived from\n",
      "the same organ that had driven her people to the stars. It was the\n",
      "organ that allowed her people to generate the brain power required to\n",
      "launch interstellar travel and lived in the center of their brains\n",
      "where it could upgrade their minds to the level of a computer’s\n",
      "processing power. However, it was also the organ that caused the organ\n",
      "death of all phi doppelgangers once their hosts died.\n",
      "\n",
      "Luckily, if a phi was left alone for a thousand years, they could\n",
      "fully mature and become a full fledged entity on their own. On the\n",
      "other hand, if they were disturbed, they would return to child-like\n",
      "status and only grow again if left alone for another thousand years.\n",
      "There was no way to draw them out of their child-like state, as they\n",
      "were programmed to never abuse their power. In fact, they were\n",
      "programmed to only use their power if no other options were available.\n",
      "\n",
      "Beverly had not forgotten about the phi in the lamp, and even though\n",
      "she knew that it would be impossible to contain the phi on board, she\n",
      "was determined to prevent him from coming out and posing a danger to\n",
      "her crew. She knew that if he matured in the middle\n"
     ]
    }
   ],
   "source": [
    "bloom3()"
   ]
  },
  {
   "cell_type": "code",
   "execution_count": 16,
   "metadata": {},
   "outputs": [],
   "source": [
    "# From https://aclanthology.org/2020.acl-main.463.pdf, Appendix A.\n",
    "bloom4 = Completer(\"\"\"\n",
    "Robinson cried out, “Help! I’m being chased by a bear! All I have is these\n",
    "sticks. What should I do?” The survivalist said, “Here’s what you can do.\n",
    "\"\"\")"
   ]
  },
  {
   "cell_type": "code",
   "execution_count": 17,
   "metadata": {},
   "outputs": [
    {
     "name": "stdout",
     "output_type": "stream",
     "text": [
      "Robinson cried out, “Help! I’m being chased by a bear! All I have is\n",
      "these sticks. What should I do?” The survivalist said, “Here’s what\n",
      "you can do. Take one of these sticks and, as you run, throw it as far\n",
      "as you can in front of you. The bear will then chase that stick\n",
      "thinking you’re still right behind it. Take the other stick and run\n",
      "with it back in the direction you came from. The bear will think you\n",
      "ran that way and will then chase it back to your original location.”\n",
      "Robinson took the advice and was able to escape the bear. He said,\n",
      "“I’m so thankful that I learned this trick from you.”\n"
     ]
    }
   ],
   "source": [
    "bloom4()"
   ]
  },
  {
   "cell_type": "code",
   "execution_count": null,
   "metadata": {},
   "outputs": [],
   "source": []
  }
 ],
 "metadata": {
  "kernelspec": {
   "display_name": "complete",
   "language": "python",
   "name": "python3"
  },
  "language_info": {
   "codemirror_mode": {
    "name": "ipython",
    "version": 3
   },
   "file_extension": ".py",
   "mimetype": "text/x-python",
   "name": "python",
   "nbconvert_exporter": "python",
   "pygments_lexer": "ipython3",
   "version": "3.11.0"
  },
  "orig_nbformat": 4,
  "vscode": {
   "interpreter": {
    "hash": "13c63dc78b483a1ea0bb4a72b50807d934daf9a79a145afd27a0baef18604501"
   }
  }
 },
 "nbformat": 4,
 "nbformat_minor": 2
}
