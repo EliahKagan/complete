{
 "cells": [
  {
   "attachments": {},
   "cell_type": "markdown",
   "metadata": {},
   "source": [
    "# Story-writing with BLOOM\n",
    "\n",
    "SPDX-License-Identifier: 0BSD"
   ]
  },
  {
   "cell_type": "code",
   "execution_count": 1,
   "metadata": {},
   "outputs": [],
   "source": [
    "from complete import Completer"
   ]
  },
  {
   "cell_type": "code",
   "execution_count": 2,
   "metadata": {},
   "outputs": [],
   "source": [
    "bloom1 = Completer(\"\"\"\n",
    "Sometimes I marvel at how the sky contains no advertisements. Oh, sometimes\n",
    "someone goes up in a little plane and skywrites a birthday greeting. But the\n",
    "sky... you don’t have to watch an ad to see it.\n",
    "\n",
    "When people learn I fought in the war to free the sky, they say, “Thank you for\n",
    "\"\"\", temperature=1.0, top_k=30)"
   ]
  },
  {
   "cell_type": "code",
   "execution_count": 3,
   "metadata": {},
   "outputs": [
    {
     "name": "stdout",
     "output_type": "stream",
     "text": [
      "Sometimes I marvel at how the sky contains no advertisements. Oh,\n",
      "sometimes someone goes up in a little plane and skywrites a birthday\n",
      "greeting. But the sky... you don’t have to watch an ad to see it.\n",
      "\n",
      "When people learn I fought in the war to free the sky, they say,\n",
      "“Thank you for fighting to stop the skywriting!” My mother-in-law even\n",
      "went to the trouble to send me a letter with a beautiful painting she\n",
      "made of me wielding a chainsaw, chopping an advertisement down to\n",
      "size. But what are we fighting again? We weren’t fighting against free\n",
      "advertising. We were fighting against advertising that was so\n",
      "unobtrusive that it wasn’t even advertising: advertising that was part\n",
      "of the fabric of life and couldn’t be seen because it was so\n",
      "omnipresent.\n",
      "\n",
      "When I was a young boy, I remember when the TV ads for General Mills\n",
      "cereals first went into the air. Each cereal was designed to show a\n",
      "very specific personality. For example: Captain Crunch. He was a naval\n",
      "captain whose job it was to find the enemy. But there were so many\n",
      "cereal commercials running all the time that we all came to understand\n",
      "a particular cereal by the way it acted in the commercials — whether\n",
      "it ran away from its adversaries if it was Lucky Charms, or if it was\n",
      "a cowardly Captain Crunch. But then came the advertising campaign for\n",
      "Froot Loops. They would start by playing a loop of a song, then play\n",
      "the opening line of the commercial. The opening\n"
     ]
    }
   ],
   "source": [
    "bloom1()"
   ]
  },
  {
   "cell_type": "code",
   "execution_count": 4,
   "metadata": {},
   "outputs": [],
   "source": [
    "bloom2 = Completer(\"\"\"\n",
    "The color enforcers came around again. They ripped the cheese off our freshly\n",
    "baked pizza. The customers dropped their food and ran out.\n",
    "\n",
    "“Aha!” said the biggest, scariest henchman. “This sauce is red! We license the\n",
    "color red to you, but you haven’t been paying the license fees.” I quaked in\n",
    "fear. My grandfather had gotten both his knees busted by color enforcers.\n",
    "\"\"\")"
   ]
  },
  {
   "cell_type": "code",
   "execution_count": 5,
   "metadata": {},
   "outputs": [
    {
     "name": "stdout",
     "output_type": "stream",
     "text": [
      "The color enforcers came around again. They ripped the cheese off our\n",
      "freshly baked pizza. The customers dropped their food and ran out.\n",
      "\n",
      "“Aha!” said the biggest, scariest henchman. “This sauce is red! We\n",
      "license the color red to you, but you haven’t been paying the license\n",
      "fees.” I quaked in fear. My grandfather had gotten both his knees\n",
      "busted by color enforcers. He was still in pain. But I had to go\n",
      "upstairs and find my parents. I thought they might know how to bail us\n",
      "out.\n",
      "\n",
      "“You can’t bring color to this restaurant,” said my father, who had\n",
      "just finished a grueling shift. “We’ve never paid for the color red.”\n",
      "\n",
      "“But my grandfather did,” I said. “He got his knees busted by those\n",
      "color enforcers.” My parents looked at each other and then at me. “We\n",
      "have to pay them,” my father said. “My grandfather couldn’t pay them.\n",
      "He had to go to the hospital for eight months.”\n",
      "\n",
      "“We’ll have to make a special pizza that’s not red,” said my mother.\n",
      "“We’ll have to use brown sauce.”\n",
      "\n",
      "“Yes, we’ll use the brown sauce,” said my father. “We don’t have to\n",
      "pay the color enforcers, and the customers won’t know the difference.”\n",
      "\n",
      "The color enforcers came around again. They ripped the cheese off the\n",
      "freshly baked pizza. The customers dropped their food and ran out.\n",
      "\n",
      "I’ve written about this same “pizza” scene from the Pixar short film\n",
      "“Pizza” in a previous post\n"
     ]
    }
   ],
   "source": [
    "bloom2()"
   ]
  },
  {
   "cell_type": "code",
   "execution_count": 6,
   "metadata": {},
   "outputs": [],
   "source": [
    "bloom3 = Completer(\"\"\"\n",
    "Beverly understood how all the women in her family had fallen in love with this\n",
    "energy ghost who lived in a lamp and fed parasitically off their vital energy\n",
    "while making every carnal dream come to life. As a spacefaring physician,\n",
    "\"\"\")"
   ]
  },
  {
   "cell_type": "code",
   "execution_count": 7,
   "metadata": {},
   "outputs": [
    {
     "name": "stdout",
     "output_type": "stream",
     "text": [
      "Beverly understood how all the women in her family had fallen in love\n",
      "with this energy ghost who lived in a lamp and fed parasitically off\n",
      "their vital energy while making every carnal dream come to life. As a\n",
      "spacefaring physician, she was privy to the latest technology and,\n",
      "more importantly, she was an advocate of holistic health, which\n",
      "included the power of psychic healing as a pathway to balance and\n",
      "well-being.\n",
      "\n",
      "She turned away from the lamp and closed her eyes. The alien was\n",
      "already in her mind. She closed her mind completely around it, and\n",
      "then she opened her mind wide to the lamp. It filled her entire\n",
      "awareness, as if it were a single beam of light that pulsated with\n",
      "life. She was on the brink of panic. The lamp was still in her mind,\n",
      "and now she could clearly see the alien at its center, rising above\n",
      "it, hovering over the lamp’s top like a bizarre effigy of life.\n"
     ]
    }
   ],
   "source": [
    "bloom3()"
   ]
  },
  {
   "cell_type": "code",
   "execution_count": 8,
   "metadata": {},
   "outputs": [],
   "source": [
    "# From https://aclanthology.org/2020.acl-main.463.pdf, Appendix A.\n",
    "bloom4 = Completer(\"\"\"\n",
    "Robinson cried out, “Help! I’m being chased by a bear! All I have is these\n",
    "sticks. What should I do?” The survivalist said, “Here’s what you can do.\n",
    "\"\"\")"
   ]
  },
  {
   "cell_type": "code",
   "execution_count": 9,
   "metadata": {},
   "outputs": [
    {
     "name": "stdout",
     "output_type": "stream",
     "text": [
      "Robinson cried out, “Help! I’m being chased by a bear! All I have is\n",
      "these sticks. What should I do?” The survivalist said, “Here’s what\n",
      "you can do. Make yourself an arrow, go into the woods and shoot the\n",
      "bear. It will make a lot of noise, and then he’ll go away.”\n",
      "\n",
      "Robinson said, “But I don’t know how to make an arrow. All I have is\n",
      "these sticks.” The survivalist said, “Here’s what you can do. Make\n",
      "yourself a bow, go into the woods and shoot the bear. It will make a\n",
      "lot of noise, and then he’ll go away.” Robinson said, “But I don’t\n",
      "know how to make a bow. All I have is these sticks.”\n",
      "\n",
      "The survivalist said, “Here’s what you can do. Make yourself a gun, go\n",
      "into the woods and shoot the bear. It will make a lot of noise, and\n",
      "then he’ll go away.” Robinson said, “But I don’t know how to make a\n",
      "gun. All I have is these sticks.”\n",
      "\n",
      "The survivalist said, “What a shame. All you have is these sticks and\n",
      "you don’t know how to use them. You’re going to die!”\n",
      "\n",
      "We have a lot of resources, and the last thing we need is more stuff.\n",
      "More stuff will only cause us to be more and more dependent on other\n"
     ]
    }
   ],
   "source": [
    "bloom4()"
   ]
  },
  {
   "cell_type": "code",
   "execution_count": null,
   "metadata": {},
   "outputs": [],
   "source": []
  }
 ],
 "metadata": {
  "kernelspec": {
   "display_name": "complete-OCGV64OY",
   "language": "python",
   "name": "python3"
  },
  "language_info": {
   "codemirror_mode": {
    "name": "ipython",
    "version": 3
   },
   "file_extension": ".py",
   "mimetype": "text/x-python",
   "name": "python",
   "nbconvert_exporter": "python",
   "pygments_lexer": "ipython3",
   "version": "3.11.0"
  },
  "orig_nbformat": 4,
  "vscode": {
   "interpreter": {
    "hash": "2e7d42f8e86dbfe711bd671ab1851195badbe7a0e04157c9a4b4633af7ecfff9"
   }
  }
 },
 "nbformat": 4,
 "nbformat_minor": 2
}
