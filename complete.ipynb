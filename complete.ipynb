{
 "cells": [
  {
   "attachments": {},
   "cell_type": "markdown",
   "metadata": {},
   "source": [
    "# Story-writing with BLOOM\n",
    "\n",
    "SPDX-License-Identifier: 0BSD"
   ]
  },
  {
   "cell_type": "code",
   "execution_count": 1,
   "metadata": {},
   "outputs": [],
   "source": [
    "from complete import Completer"
   ]
  },
  {
   "cell_type": "code",
   "execution_count": 2,
   "metadata": {},
   "outputs": [],
   "source": [
    "bloom1 = Completer(\"\"\"\n",
    "Sometimes I marvel at how the sky contains no advertisements. Oh, sometimes\n",
    "someone goes up in a little plane and skywrites a birthday greeting. But the\n",
    "sky... you don’t have to watch an ad to see it.\n",
    "\n",
    "When people learn I fought in the war to free the sky, they say, “Thank you for\n",
    "\"\"\", temperature=1.0, top_k=30)"
   ]
  },
  {
   "cell_type": "code",
   "execution_count": 3,
   "metadata": {},
   "outputs": [
    {
     "name": "stdout",
     "output_type": "stream",
     "text": [
      "Sometimes I marvel at how the sky contains no advertisements. Oh,\n",
      "sometimes someone goes up in a little plane and skywrites a birthday\n",
      "greeting. But the sky... you don’t have to watch an ad to see it.\n",
      "\n",
      "When people learn I fought in the war to free the sky, they say,\n",
      "“Thank you for your service.” And you know the sky doesn’t have a\n",
      "military, but still, that’s what they say.\n",
      "\n",
      "The problem with not watching the sky for a while is that you forget\n",
      "just how big an ocean of blue it is.\n",
      "\n",
      "There is no need to think about what’s down there. You can’t possibly\n",
      "see it all, never mind comprehend it, or take it all with you. The sky\n",
      "is more important than that. You don’t have to go down to breathe it.\n",
      "You can breathe it when you stand and watch it.”\n",
      "\n",
      "I love that the sky is blue. And the clouds, and the breeze, and the\n",
      "birds, and the trees, and the stars. And I love that they make it so\n",
      "you can see them, if you look.\n",
      "\n",
      "It’s the blue that gets me. The blue reminds me I am not the sun. But\n",
      "I am a part of the sun. I am a part of the sky. And I am a part of\n",
      "everything and everyone. I am a part of you. And I am a part of me.\n",
      "Every breath, every step I take I am a part of the sky. I am a part of\n",
      "the light.\n",
      "\n",
      "The sky is so much bigger than me. But the\n"
     ]
    }
   ],
   "source": [
    "bloom1()"
   ]
  },
  {
   "cell_type": "code",
   "execution_count": 4,
   "metadata": {},
   "outputs": [],
   "source": [
    "bloom2 = Completer(\"\"\"\n",
    "The color enforcers came around again. They ripped the cheese off our freshly\n",
    "baked pizza. The customers dropped their food and ran out.\n",
    "\n",
    "“Aha!” said the biggest, scariest henchman. “This sauce is red! We license the\n",
    "color red to you, but you haven’t been paying the license fees.” I quaked in\n",
    "fear. My grandfather had gotten both his knees busted by color enforcers.\n",
    "\"\"\")"
   ]
  },
  {
   "cell_type": "code",
   "execution_count": 5,
   "metadata": {},
   "outputs": [
    {
     "name": "stdout",
     "output_type": "stream",
     "text": [
      "The color enforcers came around again. They ripped the cheese off our\n",
      "freshly baked pizza. The customers dropped their food and ran out.\n",
      "\n",
      "“Aha!” said the biggest, scariest henchman. “This sauce is red! We\n",
      "license the color red to you, but you haven’t been paying the license\n",
      "fees.” I quaked in fear. My grandfather had gotten both his knees\n",
      "busted by color enforcers. I’d never forgive myself if they did the\n",
      "same to me.\n",
      "\n",
      "“But maybe this pizza is more like the color yellow,” I pleaded. I\n",
      "don’t think anybody was paying attention.\n",
      "\n",
      "“It’s red!” he yelled. “Red!” He yanked off a chunk of pepperoni as\n",
      "hard as he could. He threw it at me. I ducked under the table and the\n",
      "pepperoni struck the floor. “That will teach you to disrespect the\n",
      "color red!”\n",
      "\n",
      "I was afraid, but not for myself. This was a tough guy. He had black\n",
      "and white tattooed on his forehead. I was afraid he’d punch my\n",
      "grandfather in the nose.\n",
      "\n",
      "The color enforcers left. I was sad because my pizza was ruined. But I\n",
      "was also so happy I hadn’t been hit by the color enforcer’s pepperoni.\n",
      "\n",
      "I remember that day clearly, because I knew if I didn’t stop being a\n",
      "pizza-laying robot, my grandfather would really screw up his knees.\n",
      "\n",
      "As I write this, I see a picture of me as a little boy in a yellow\n",
      "button-down shirt holding out my arms. My grandfather is standing\n",
      "behind me, his knees bent, the tears streaming down his face.\n"
     ]
    }
   ],
   "source": [
    "bloom2()"
   ]
  },
  {
   "cell_type": "code",
   "execution_count": 6,
   "metadata": {},
   "outputs": [],
   "source": [
    "bloom3 = Completer(\"\"\"\n",
    "Beverly understood how all the women in her family had fallen in love with this\n",
    "energy ghost who lived in a lamp and fed parasitically off their vital energy\n",
    "while making every carnal dream come to life. As a spacefaring physician,\n",
    "\"\"\")"
   ]
  },
  {
   "cell_type": "code",
   "execution_count": 7,
   "metadata": {},
   "outputs": [
    {
     "name": "stdout",
     "output_type": "stream",
     "text": [
      "Beverly understood how all the women in her family had fallen in love\n",
      "with this energy ghost who lived in a lamp and fed parasitically off\n",
      "their vital energy while making every carnal dream come to life. As a\n",
      "spacefaring physician, Beverly had treated many men and women who had\n",
      "fallen in love with an energy vampire. She had found that a person who\n",
      "was a spacefaring physician was highly susceptible to falling in love\n",
      "with an energy vampire since their profession entailed working with\n",
      "sensitive psychic fields. However, Beverly had never fallen in love\n",
      "with an energy vampire. She was too sane to fall for such a foolish\n",
      "myth.\n",
      "\n",
      "Beverly looked through the magnifying glass she had purchased with the\n",
      "remaining money from her retirement fund. It was one of those\n",
      "magnifying glasses that used two convex lenses in a telescope\n",
      "arrangement that gave the user an extremely powerful magnified image.\n",
      "She could see the dust motes dancing in the sunbeam that shot up from\n",
      "the hole in the middle of the lamp. As she watched, she could feel the\n",
      "excitement growing inside of her. This was her chance to have the\n",
      "energy ghost that lurked in the lamp give her all the things she had\n",
      "always wanted. She had always wanted to be a famous artist, but she\n",
      "had no natural talent. She had always wanted to own a big mansion and\n",
      "to travel the world, but her wages were never sufficient to allow her\n",
      "to indulge in such extravagances. The energy ghost in the lamp could\n",
      "make her\n"
     ]
    }
   ],
   "source": [
    "bloom3()"
   ]
  },
  {
   "cell_type": "code",
   "execution_count": 8,
   "metadata": {},
   "outputs": [],
   "source": [
    "# From https://aclanthology.org/2020.acl-main.463.pdf, Appendix A.\n",
    "bloom4 = Completer(\"\"\"\n",
    "Robinson cried out, “Help! I’m being chased by a bear! All I have is these\n",
    "sticks. What should I do?” The survivalist said, “Here’s what you can do.\n",
    "\"\"\")"
   ]
  },
  {
   "cell_type": "code",
   "execution_count": 9,
   "metadata": {},
   "outputs": [
    {
     "name": "stdout",
     "output_type": "stream",
     "text": [
      "Robinson cried out, “Help! I’m being chased by a bear! All I have is\n",
      "these sticks. What should I do?” The survivalist said, “Here’s what\n",
      "you can do. Break one stick in half, and you get a spear. Break\n",
      "another stick in half, and you get a bow. Keep breaking sticks in half\n",
      "and you’ll have arrows.”\n",
      "\n",
      "Robinson thanked him and ran as fast as he could, but he still\n",
      "couldn’t outrun the bear. The bear was gaining on him. Robinson looked\n",
      "back and saw the survivalist following him with a gun. Robinson said,\n",
      "“Help! I’m being chased by a bear!” The survivalist replied, “I don’t\n",
      "think you can count on me for that.”\n",
      "\n",
      "A man named George was out for a walk in the woods. He heard a sound\n",
      "and looked up to see a bear coming after him. He ran so fast that he\n",
      "couldn’t see where he was going. He ran so hard that he fell over a\n",
      "cliff. He broke his legs and his back and was unable to move. All he\n",
      "could do was look up and see the bear right above him. He gasped,\n",
      "“Help! I’m being chased by a bear!”\n",
      "\n",
      "A man named George was out for a walk in the woods. He heard a sound\n",
      "and looked up to see a bear coming after him. He ran so fast that he\n",
      "couldn’t see\n"
     ]
    }
   ],
   "source": [
    "bloom4()"
   ]
  },
  {
   "cell_type": "code",
   "execution_count": null,
   "metadata": {},
   "outputs": [],
   "source": []
  }
 ],
 "metadata": {
  "kernelspec": {
   "display_name": "complete-OCGV64OY",
   "language": "python",
   "name": "python3"
  },
  "language_info": {
   "codemirror_mode": {
    "name": "ipython",
    "version": 3
   },
   "file_extension": ".py",
   "mimetype": "text/x-python",
   "name": "python",
   "nbconvert_exporter": "python",
   "pygments_lexer": "ipython3",
   "version": "3.11.2"
  },
  "orig_nbformat": 4,
  "vscode": {
   "interpreter": {
    "hash": "2e7d42f8e86dbfe711bd671ab1851195badbe7a0e04157c9a4b4633af7ecfff9"
   }
  }
 },
 "nbformat": 4,
 "nbformat_minor": 2
}
