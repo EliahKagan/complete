{
 "cells": [
  {
   "cell_type": "code",
   "execution_count": 1,
   "metadata": {},
   "outputs": [],
   "source": [
    "from collections.abc import Callable\n",
    "import functools\n",
    "import random\n",
    "import re\n",
    "import textwrap\n",
    "from typing import Any\n",
    "\n",
    "from huggingface_hub import InferenceApi"
   ]
  },
  {
   "cell_type": "code",
   "execution_count": 2,
   "metadata": {},
   "outputs": [
    {
     "data": {
      "text/plain": [
       "'Regular expression matching a paragraph break.'"
      ]
     },
     "execution_count": 2,
     "metadata": {},
     "output_type": "execute_result"
    }
   ],
   "source": [
    "_PARA_BREAK = re.compile(r'\\n{2,}')\n",
    "\"\"\"Regular expression matching a paragraph break.\"\"\""
   ]
  },
  {
   "cell_type": "code",
   "execution_count": 3,
   "metadata": {},
   "outputs": [],
   "source": [
    "class CompletionError(Exception):\n",
    "    \"\"\"An error in attempting to complete text with BLOOM.\"\"\"\n",
    "    pass"
   ]
  },
  {
   "cell_type": "code",
   "execution_count": 4,
   "metadata": {},
   "outputs": [],
   "source": [
    "class UnexpectedResponseError(AssertionError):\n",
    "    \"\"\"An unexpected error completing text. Probably a bug.\"\"\"\n",
    "    pass"
   ]
  },
  {
   "cell_type": "code",
   "execution_count": 5,
   "metadata": {},
   "outputs": [],
   "source": [
    "class Supplier:\n",
    "    \"\"\"As the value of a BLOOM parameter, is called instead of used.\"\"\"\n",
    "\n",
    "    __slots__ = ('_func',)\n",
    "\n",
    "    __match_args__ = ('_func',)\n",
    "\n",
    "    def __init__(self, func: Callable[[], Any]) -> None:\n",
    "        self._func = func\n",
    "    \n",
    "    def __repr__(self) -> str:\n",
    "        return f'{type(self).__name__}({self._func!r})'\n",
    "    \n",
    "    def __call__(self) -> Any:\n",
    "        return self._func()"
   ]
  },
  {
   "cell_type": "code",
   "execution_count": 6,
   "metadata": {},
   "outputs": [],
   "source": [
    "@functools.cache\n",
    "def _get_inference_api() -> InferenceApi:\n",
    "    with open('.hf_token', encoding='utf-8') as file:\n",
    "        api_token = file.read().strip()\n",
    "\n",
    "    return InferenceApi(repo_id='bigscience/bloom', token=api_token)"
   ]
  },
  {
   "cell_type": "code",
   "execution_count": 7,
   "metadata": {},
   "outputs": [],
   "source": [
    "def _normalize_paragraphs(text: str) -> str:\n",
    "    \"\"\"Remove any hard wrapping and separate paragraphs by single newlines.\"\"\"\n",
    "    pretty = _PARA_BREAK.split(text)\n",
    "    raw = (para.strip().replace('\\n', ' ') for para in pretty)\n",
    "    return '\\n'.join(raw)"
   ]
  },
  {
   "cell_type": "code",
   "execution_count": 8,
   "metadata": {},
   "outputs": [],
   "source": [
    "def _prettify_paragraphs(text: str) -> str:\n",
    "    \"\"\"Add hard wrapping and separate paragraphs by blank lines.\"\"\"\n",
    "    raw = text.strip().split('\\n')\n",
    "    pretty = ('\\n'.join(textwrap.wrap(graf)) for graf in raw)\n",
    "    return '\\n\\n'.join(pretty)"
   ]
  },
  {
   "cell_type": "code",
   "execution_count": 9,
   "metadata": {},
   "outputs": [],
   "source": [
    "class Completer:\n",
    "    \"\"\"High-level interface to Bloom completion.\"\"\"\n",
    "\n",
    "    __slots__ = ('_inference', '_text', '__dict__')\n",
    "\n",
    "    def __init__(self, prompt: str, **parameters: Any) -> None:\n",
    "        \"\"\"Create a completer for the given prompt and optional parameters.\"\"\"\n",
    "        self._inference = _get_inference_api()\n",
    "        self.text = _normalize_paragraphs(prompt)\n",
    "\n",
    "        if any(name.startswith('_') for name in parameters):\n",
    "            raise TypeError('cannot set parameter name with leading \"_\"')\n",
    "        \n",
    "        self._set_defaults()\n",
    "        self.__dict__.update(parameters)\n",
    "\n",
    "    def __str__(self) -> str:\n",
    "        \"\"\"Prettified version of the text stored so far.\"\"\"\n",
    "        return _prettify_paragraphs(self.text)\n",
    "    \n",
    "    @property\n",
    "    def text(self) -> str:\n",
    "        \"\"\"The prompt plus any appended completions.\"\"\"\n",
    "        return self._text\n",
    "    \n",
    "    @text.setter\n",
    "    def text(self, value: str) -> None:\n",
    "        if not isinstance(value, str):\n",
    "            raise TypeError('prompt must be a string')\n",
    "        if not value:\n",
    "            raise ValueError('prompt must be nonempty')\n",
    "        self._text = value\n",
    "\n",
    "    def __call__(self) -> str:\n",
    "        \"\"\"Attempt to complete the stored text, and print all text so far.\"\"\"\n",
    "        self.complete()\n",
    "        print(self)\n",
    "    \n",
    "    def complete(self) -> None:\n",
    "        \"\"\"Attempt to complete the stored text, but do not print anything.\"\"\"\n",
    "        match self._inference(inputs=self.text, params=self._build_params()):\n",
    "            case [{'generated_text': completion}]:\n",
    "                self._text = completion  # Whatever BLOOM returns, we accept.\n",
    "            case {'error': [*errors]}:\n",
    "                raise CompletionError(*errors)\n",
    "            case other_response:\n",
    "                raise UnexpectedResponseError(other_response)\n",
    "    \n",
    "    def _set_defaults(self) -> None:\n",
    "        self.do_sample = True\n",
    "        self.max_new_tokens = 250\n",
    "        self.seed = Supplier(random.random)\n",
    "        self.temperature = 0.75\n",
    "    \n",
    "    def _build_params(self) -> dict[str, Any]:\n",
    "        return {name: (value() if isinstance(value, Supplier) else value)\n",
    "                for name, value in sorted(self.__dict__.items())}\n"
   ]
  },
  {
   "cell_type": "code",
   "execution_count": 10,
   "metadata": {},
   "outputs": [],
   "source": [
    "bloom1 = Completer(\"\"\"\n",
    "The color enforcers came around again. They ripped the cheese off our freshly\n",
    "baked pizza. The customers dropped their food and ran out.\n",
    "\n",
    "\"Aha!\" said the biggest, scariest henchman. \"This sauce is red! We license the\n",
    "color red to you, but you haven't been paying the license fees.\" I quaked in\n",
    "fear. My grandfather had gotten both his knees busted by color enforcers.\n",
    "\"\"\")"
   ]
  },
  {
   "cell_type": "code",
   "execution_count": 11,
   "metadata": {},
   "outputs": [
    {
     "name": "stdout",
     "output_type": "stream",
     "text": [
      "The color enforcers came around again. They ripped the cheese off our\n",
      "freshly baked pizza. The customers dropped their food and ran out.\n",
      "\n",
      "\"Aha!\" said the biggest, scariest henchman. \"This sauce is red! We\n",
      "license the color red to you, but you haven't been paying the license\n",
      "fees.\" I quaked in fear. My grandfather had gotten both his knees\n",
      "busted by color enforcers. I had to find another job. I tried making\n",
      "some swords for a couple of knights, but one of them ran out of money\n",
      "and the other one was starving. I tried making a tie for a senator. I\n",
      "ended up with a tie that read, \"burn the senator.\"\n",
      "\n",
      "\"No!\" I said, trying to sound brave. \"Oh, my! Oh, my! Oh, my! Who are\n",
      "you?\" I jumped up and down, my hands in the air as if I were a rabbit.\n",
      "\n",
      "\"Mom.\" I opened my mouth to say, \"I'm going to die,\" but I didn't get\n",
      "the words out before she was in my arms.\n",
      "\n",
      "\"You're going to be fine. Don't worry.\" She kissed my forehead. \"Your\n",
      "dad is making up for all that I missed.\"\n",
      "\n",
      "We had a great time and some amazing experiences. We saw some amazing\n",
      "places and made many friends along the way. When we arrived back I had\n",
      "an amazing job in my field and my mom had found a great place to live.\n",
      "I have told the story of my thousands of times. Every time I do, I\n",
      "start crying at the end. I always wonder what would have happened to\n",
      "me had it\n"
     ]
    }
   ],
   "source": [
    "bloom1()"
   ]
  },
  {
   "cell_type": "code",
   "execution_count": 12,
   "metadata": {},
   "outputs": [],
   "source": [
    "bloom2 = Completer(\"\"\"\n",
    "Beverly understood how all the women in her family had fallen in love with this\n",
    "energy ghost who lived in a lamp and fed parasitically off their vital energy\n",
    "while making every carnal dream come to life. As a spacefaring physician,\n",
    "\"\"\")"
   ]
  },
  {
   "cell_type": "code",
   "execution_count": 13,
   "metadata": {},
   "outputs": [
    {
     "name": "stdout",
     "output_type": "stream",
     "text": [
      "Beverly understood how all the women in her family had fallen in love\n",
      "with this energy ghost who lived in a lamp and fed parasitically off\n",
      "their vital energy while making every carnal dream come to life. As a\n",
      "spacefaring physician, she had a certain amount of experience fighting\n",
      "off parasites. She wondered if she could summon enough willpower to\n",
      "keep him attached long enough to find out just how he worked.\n",
      "\n",
      "“Stop!” Beverly cried as the ghost’s hand brushed her cheek. She\n",
      "grasped the lamp’s base and wrenched it away from him. He tumbled to\n",
      "the ground, his light extinguished.\n",
      "\n",
      "Beverly took a few steps back. She had never seen a man’s face so\n",
      "transformed. Where there had been arrogant amusement there was now a\n",
      "look of intense, hungry disappointment. He was done with her. He was\n",
      "going to find someone else to feed off.\n",
      "\n",
      "She thought, as soon as she saw him, just how many women would fall\n",
      "for that smile. If she hadn’t been a physician, she would have fallen\n",
      "completely in love with him. His face would have been everything she\n",
      "ever wanted to see in a man. He would have been her husband, her\n",
      "lover, her life. Instead, he was merely a parasitic energy ghost.\n",
      "\n",
      "She walked up to him. She was tall, but he was too tall for her to\n",
      "reach. She could see the damp, slightly rough, unshaven skin of his\n",
      "face.\n"
     ]
    }
   ],
   "source": [
    "bloom2()"
   ]
  },
  {
   "cell_type": "code",
   "execution_count": 14,
   "metadata": {},
   "outputs": [],
   "source": [
    "# From https://aclanthology.org/2020.acl-main.463.pdf, Appendix A.\n",
    "bloom3 = Completer(\"\"\"\n",
    "Robinson cried out, “Help! I’m being chased by a bear! All I have is these\n",
    "sticks. What should I do?” The survivalist said, “Here’s what you can do.\n",
    "\"\"\")"
   ]
  },
  {
   "cell_type": "code",
   "execution_count": 15,
   "metadata": {},
   "outputs": [
    {
     "name": "stdout",
     "output_type": "stream",
     "text": [
      "Robinson cried out, “Help! I’m being chased by a bear! All I have is\n",
      "these sticks. What should I do?” The survivalist said, “Here’s what\n",
      "you can do. Grab as many sticks as you can in each hand, then run.\n",
      "That will give you traction.”\n",
      "\n",
      "When the bear caught up to Robinson, he was still carrying the two-\n",
      "handed sticks. He ran into the bear and knocked him over. Then he\n",
      "grabbed the bear’s paw and held it. Then he yelled, “I’m being chased\n",
      "by a bear! All I have is these sticks. What should I do?”\n"
     ]
    }
   ],
   "source": [
    "bloom3()"
   ]
  },
  {
   "cell_type": "code",
   "execution_count": null,
   "metadata": {},
   "outputs": [],
   "source": []
  }
 ],
 "metadata": {
  "kernelspec": {
   "display_name": "complete",
   "language": "python",
   "name": "python3"
  },
  "language_info": {
   "codemirror_mode": {
    "name": "ipython",
    "version": 3
   },
   "file_extension": ".py",
   "mimetype": "text/x-python",
   "name": "python",
   "nbconvert_exporter": "python",
   "pygments_lexer": "ipython3",
   "version": "3.11.0"
  },
  "orig_nbformat": 4,
  "vscode": {
   "interpreter": {
    "hash": "13c63dc78b483a1ea0bb4a72b50807d934daf9a79a145afd27a0baef18604501"
   }
  }
 },
 "nbformat": 4,
 "nbformat_minor": 2
}
