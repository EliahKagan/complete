{
 "cells": [
  {
   "attachments": {},
   "cell_type": "markdown",
   "metadata": {},
   "source": [
    "# Story-writing with BLOOM\n",
    "\n",
    "SPDX-License-Identifier: 0BSD"
   ]
  },
  {
   "cell_type": "code",
   "execution_count": 1,
   "metadata": {},
   "outputs": [],
   "source": [
    "from complete import Completer"
   ]
  },
  {
   "cell_type": "code",
   "execution_count": 2,
   "metadata": {},
   "outputs": [],
   "source": [
    "bloom1 = Completer(\"\"\"\n",
    "Sometimes I marvel at how the sky contains no advertisements. Oh, sometimes\n",
    "someone goes up in a little plane and skywrites a birthday greeting. But the\n",
    "sky... you don’t have to watch an ad to see it.\n",
    "\n",
    "When people learn I fought in the war to free the sky, they say, “Thank you for\n",
    "\"\"\", temperature=1.0, top_k=30)"
   ]
  },
  {
   "cell_type": "code",
   "execution_count": 3,
   "metadata": {},
   "outputs": [
    {
     "name": "stdout",
     "output_type": "stream",
     "text": [
      "Sometimes I marvel at how the sky contains no advertisements. Oh,\n",
      "sometimes someone goes up in a little plane and skywrites a birthday\n",
      "greeting. But the sky... you don’t have to watch an ad to see it.\n",
      "\n",
      "When people learn I fought in the war to free the sky, they say,\n",
      "“Thank you for doing your part.” Well yes – but this is a shared\n",
      "struggle, with history stretching back to the Wright Brothers, to\n",
      "people like Paul T. Varley. There won’t ever be a time when we are\n",
      "free of skywriters. It’s a never-ending battle.\n",
      "\n",
      "The problem began for me one morning, back in the 80s, when the\n",
      "airways were still considered a commons, before the Reagan-era\n",
      "deregulation. A local ad man had the bright idea to use a plane to\n",
      "write an ad for his client on the sky. Then he did the same thing over\n",
      "at my friend John’s place.\n",
      "\n",
      "At that time, I was trying to find land to make art on, using a small\n",
      "plane, and the first thing I noticed about John’s place is the\n",
      "beautiful view of the valley. He lives on a ridge that rises above the\n",
      "valley’s western end, and there are amazing views of the Sierras to\n",
      "the west, with the big peaks on the eastern horizon.\n",
      "\n",
      "The ad company didn’t ask John his permission to write its ad on his\n",
      "view. And, of course, John had no problem saying, “Yes, sure sure –\n",
      "why not?” It was the 80s after all. John was a musician\n"
     ]
    }
   ],
   "source": [
    "bloom1()"
   ]
  },
  {
   "cell_type": "code",
   "execution_count": 4,
   "metadata": {},
   "outputs": [],
   "source": [
    "bloom2 = Completer(\"\"\"\n",
    "The color enforcers came around again. They ripped the cheese off our freshly\n",
    "baked pizza. The customers dropped their food and ran out.\n",
    "\n",
    "“Aha!” said the biggest, scariest henchman. “This sauce is red! We license the\n",
    "color red to you, but you haven’t been paying the license fees.” I quaked in\n",
    "fear. My grandfather had gotten both his knees busted by color enforcers.\n",
    "\"\"\")"
   ]
  },
  {
   "cell_type": "code",
   "execution_count": 5,
   "metadata": {},
   "outputs": [
    {
     "name": "stdout",
     "output_type": "stream",
     "text": [
      "The color enforcers came around again. They ripped the cheese off our\n",
      "freshly baked pizza. The customers dropped their food and ran out.\n",
      "\n",
      "“Aha!” said the biggest, scariest henchman. “This sauce is red! We\n",
      "license the color red to you, but you haven’t been paying the license\n",
      "fees.” I quaked in fear. My grandfather had gotten both his knees\n",
      "busted by color enforcers. They were like the police, except they\n",
      "didn’t care about your driving record. They were the government’s in-\n",
      "house lawyers, who ripped off your cheese for whatever color they felt\n",
      "like.\n"
     ]
    }
   ],
   "source": [
    "bloom2()"
   ]
  },
  {
   "cell_type": "code",
   "execution_count": 6,
   "metadata": {},
   "outputs": [],
   "source": [
    "bloom3 = Completer(\"\"\"\n",
    "Beverly understood how all the women in her family had fallen in love with this\n",
    "energy ghost who lived in a lamp and fed parasitically off their vital energy\n",
    "while making every carnal dream come to life. As a spacefaring physician,\n",
    "\"\"\")"
   ]
  },
  {
   "cell_type": "code",
   "execution_count": 7,
   "metadata": {},
   "outputs": [
    {
     "name": "stdout",
     "output_type": "stream",
     "text": [
      "Beverly understood how all the women in her family had fallen in love\n",
      "with this energy ghost who lived in a lamp and fed parasitically off\n",
      "their vital energy while making every carnal dream come to life. As a\n",
      "spacefaring physician, she knew the power of dreams and the ability of\n",
      "the subconscious mind to heal itself.\n",
      "\n",
      "She had experienced this on countless occasions. The problem was that\n",
      "after a while, the dreams got less and less real. They became more\n",
      "like fantasy and less like the real thing. Then the energy ghost would\n",
      "get bored and find a new host.\n",
      "\n",
      "Beverly’s mother had lived on the planet of Osiris for over 20 years,\n",
      "and she had just lost her job as a mental health therapist with the\n",
      "Office of Human Development. The planet was hit hard by the economic\n",
      "downturn, and Beverly was the only one who still had a job. She was\n",
      "also the only one who could afford her mother’s help.\n",
      "\n",
      "Beverly didn’t want to add to the burden of her mother’s debt. She was\n",
      "a single mother and was struggling to make ends meet. She couldn’t\n",
      "afford to buy a new car and was forced to drive a beat-up old Jeep.\n",
      "She was also struggling to keep the apartment clean and the bills\n",
      "paid.\n",
      "\n",
      "But to help her mother would require a large sum of money. She didn’t\n",
      "have that kind of money. No one did. It was a good thing that the\n",
      "energy ghost was uninterested in her mother anymore.\n"
     ]
    }
   ],
   "source": [
    "bloom3()"
   ]
  },
  {
   "cell_type": "code",
   "execution_count": 8,
   "metadata": {},
   "outputs": [],
   "source": [
    "# From https://aclanthology.org/2020.acl-main.463.pdf, Appendix A.\n",
    "bloom4 = Completer(\"\"\"\n",
    "Robinson cried out, “Help! I’m being chased by a bear! All I have is these\n",
    "sticks. What should I do?” The survivalist said, “Here’s what you can do.\n",
    "\"\"\")"
   ]
  },
  {
   "cell_type": "code",
   "execution_count": 9,
   "metadata": {},
   "outputs": [
    {
     "name": "stdout",
     "output_type": "stream",
     "text": [
      "Robinson cried out, “Help! I’m being chased by a bear! All I have is\n",
      "these sticks. What should I do?” The survivalist said, “Here’s what\n",
      "you can do. Throw some of those sticks down!”\n",
      "\n",
      "By the time we reached the top of the pass, our group was scattered.\n",
      "Some of us were climbing, some of us were throwing sticks and others\n",
      "were in the woods. The survivalist said, “This is the most important\n",
      "lesson you’re going to learn. The first rule of survival: never stop\n",
      "moving.”\n",
      "\n",
      "We all laughed, but he was serious. The survivalist continued, “In my\n",
      "previous life as an Army Ranger, we lost a man in a jungle training\n",
      "exercise. We searched for him for days and days, but we never found\n",
      "him. When they finally extracted us, they found his body. The autopsy\n",
      "confirmed that he died of exposure. He had just stopped moving and\n",
      "froze to death.”\n",
      "\n",
      "The survivalist said, “The first rule of survival: never stop moving.\n",
      "The second rule of survival: never get off the trail.”\n",
      "\n",
      "We were having trouble finding footing on the glacially polished\n",
      "rocks. The survivalist said, “You’re all going to fall and break your\n",
      "legs.”\n",
      "\n",
      "We were climbing a glacier in Alaska, the largest in North America.\n",
      "The survivalist said, “You’re climbing a glacier, but you don’t want\n",
      "to\n"
     ]
    }
   ],
   "source": [
    "bloom4()"
   ]
  },
  {
   "cell_type": "code",
   "execution_count": null,
   "metadata": {},
   "outputs": [],
   "source": []
  }
 ],
 "metadata": {
  "kernelspec": {
   "display_name": "complete-OCGV64OY",
   "language": "python",
   "name": "python3"
  },
  "language_info": {
   "codemirror_mode": {
    "name": "ipython",
    "version": 3
   },
   "file_extension": ".py",
   "mimetype": "text/x-python",
   "name": "python",
   "nbconvert_exporter": "python",
   "pygments_lexer": "ipython3",
   "version": "3.11.3"
  },
  "orig_nbformat": 4,
  "vscode": {
   "interpreter": {
    "hash": "2e7d42f8e86dbfe711bd671ab1851195badbe7a0e04157c9a4b4633af7ecfff9"
   }
  }
 },
 "nbformat": 4,
 "nbformat_minor": 2
}
