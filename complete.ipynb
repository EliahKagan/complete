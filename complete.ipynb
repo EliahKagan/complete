{
 "cells": [
  {
   "cell_type": "code",
   "execution_count": 1,
   "metadata": {},
   "outputs": [],
   "source": [
    "import functools\n",
    "import random\n",
    "import textwrap\n",
    "\n",
    "from huggingface_hub import InferenceApi"
   ]
  },
  {
   "cell_type": "code",
   "execution_count": 2,
   "metadata": {},
   "outputs": [],
   "source": [
    "class CompletionError(Exception):\n",
    "    \"\"\"An error in attempting to complete text with BLOOM.\"\"\"\n",
    "    pass"
   ]
  },
  {
   "cell_type": "code",
   "execution_count": 3,
   "metadata": {},
   "outputs": [],
   "source": [
    "class UnexpectedResponseError(AssertionError):\n",
    "    \"\"\"An unexpected error completing text. Probably a bug.\"\"\"\n",
    "    pass"
   ]
  },
  {
   "cell_type": "code",
   "execution_count": 4,
   "metadata": {},
   "outputs": [],
   "source": [
    "class Supplier:\n",
    "    \"\"\"As the value of a BLOOM parameter, is called instead of used.\"\"\"\n",
    "\n",
    "    __slots__ = ('_func',)\n",
    "\n",
    "    __match_args__ = ('_func',)\n",
    "\n",
    "    def __init__(self, func):\n",
    "        self._func = func\n",
    "    \n",
    "    def __repr__(self):\n",
    "        return f'{type(self).__name__}({self._func!r})'\n",
    "    \n",
    "    def __call__(self):\n",
    "        return self._func()"
   ]
  },
  {
   "cell_type": "code",
   "execution_count": 5,
   "metadata": {},
   "outputs": [],
   "source": [
    "@functools.cache\n",
    "def _get_inference_api():\n",
    "    with open('.hf_token', encoding='utf-8') as file:\n",
    "        api_token = file.read().strip()\n",
    "\n",
    "    return InferenceApi(repo_id='bigscience/bloom', token=api_token)"
   ]
  },
  {
   "cell_type": "code",
   "execution_count": 13,
   "metadata": {},
   "outputs": [],
   "source": [
    "class Completer:\n",
    "    \"\"\"High-level interface to Bloom completion.\"\"\"\n",
    "\n",
    "    __slots__ = ('_inference', '_text', '__dict__')\n",
    "\n",
    "    def __init__(self, prompt, **parameters):\n",
    "        \"\"\"Create a completer for the given prompt and optional parameters.\"\"\"\n",
    "        self._inference = _get_inference_api()\n",
    "        self.text = prompt\n",
    "\n",
    "        if any(name.startswith('_') for name in parameters):\n",
    "            raise TypeError('cannot set parameter name with leading \"_\"')\n",
    "        \n",
    "        self._set_defaults()\n",
    "        self.__dict__.update(parameters)\n",
    "\n",
    "    def __str__(self):\n",
    "        \"\"\"Prettified version of the text stored so far.\"\"\"\n",
    "        raw = self.text.strip().split('\\n')\n",
    "        pretty = ('\\n'.join(textwrap.wrap(graf)) for graf in raw)\n",
    "        return '\\n\\n'.join(pretty)\n",
    "    \n",
    "    @property\n",
    "    def text(self):\n",
    "        \"\"\"The prompt plus any appended completions.\"\"\"\n",
    "        return self._text\n",
    "    \n",
    "    @text.setter\n",
    "    def text(self, value):\n",
    "        if not isinstance(value, str):\n",
    "            raise TypeError('prompt must be a string')\n",
    "        if not value:\n",
    "            raise ValueError('prompt must be nonempty')\n",
    "        self._text = value\n",
    "\n",
    "    def __call__(self):\n",
    "        \"\"\"Attempt to complete the stored text, and print all text so far.\"\"\"\n",
    "        self.complete()\n",
    "        print(self)\n",
    "    \n",
    "    def complete(self):\n",
    "        \"\"\"Attempt to complete the stored text, but do not print anything.\"\"\"\n",
    "        match self._inference(inputs=self.text, params=self._build_params()):\n",
    "            case [{'generated_text': completion}]:\n",
    "                self._text = completion  # Whatever BLOOM returns, we accept.\n",
    "            case {'error': [*errors]}:\n",
    "                raise CompletionError(*errors)\n",
    "            case other_response:\n",
    "                raise UnexpectedResponseError(other_response)\n",
    "    \n",
    "    def _set_defaults(self):\n",
    "        self.do_sample = True\n",
    "        self.max_new_tokens = 250\n",
    "        self.seed = Supplier(random.random)\n",
    "        self.temperature = 0.75\n",
    "    \n",
    "    def _build_params(self):\n",
    "        return {name: (value() if isinstance(value, Supplier) else value)\n",
    "                for name, value in sorted(self.__dict__.items())}\n"
   ]
  },
  {
   "cell_type": "code",
   "execution_count": 14,
   "metadata": {},
   "outputs": [],
   "source": [
    "bloom = Completer('Sam opened the door and his jaw dropped. Here')"
   ]
  },
  {
   "cell_type": "code",
   "execution_count": 15,
   "metadata": {},
   "outputs": [
    {
     "name": "stdout",
     "output_type": "stream",
     "text": [
      "Sam opened the door and his jaw dropped. Here he was sitting on a\n",
      "large and imposing bed. A large desk sat to his right. Two large and\n",
      "antique looking lamps sat at the bottom of the desk. A large, black,\n",
      "leather bound book sat open on the desk. At the far end of the room\n",
      "stood a large, antique looking wardrobe. It appeared to be made of\n",
      "solid oak. One of the doors was open and it displayed the most\n",
      "exquisite collection of clothes Sam had ever seen. The clothes hung on\n",
      "a rack and there were several pairs of shoes. The clothes had a real\n",
      "‘glamour’ about them. They were beautiful and exquisite. They were\n",
      "also very expensive.\n",
      "\n",
      "Sam looked round the room and was seriously impressed. It was like a\n",
      "scene from one of those old movies. He wondered what he’d look like\n",
      "dressed up in these clothes. He saw that one of the handbags on the\n",
      "wardrobe was open and looked inside. It contained a small, silver\n",
      "revolver. He looked out of the window. It was a small, metal window.\n",
      "Looking through the window he wondered if he could see the castle. He\n",
      "decided there was no point in looking. There was nowhere to go. He sat\n",
      "on the bed and tried to think about what was\n"
     ]
    }
   ],
   "source": [
    "bloom()"
   ]
  },
  {
   "cell_type": "code",
   "execution_count": null,
   "metadata": {},
   "outputs": [],
   "source": []
  }
 ],
 "metadata": {
  "kernelspec": {
   "display_name": "complete",
   "language": "python",
   "name": "python3"
  },
  "language_info": {
   "codemirror_mode": {
    "name": "ipython",
    "version": 3
   },
   "file_extension": ".py",
   "mimetype": "text/x-python",
   "name": "python",
   "nbconvert_exporter": "python",
   "pygments_lexer": "ipython3",
   "version": "3.11.0"
  },
  "orig_nbformat": 4,
  "vscode": {
   "interpreter": {
    "hash": "13c63dc78b483a1ea0bb4a72b50807d934daf9a79a145afd27a0baef18604501"
   }
  }
 },
 "nbformat": 4,
 "nbformat_minor": 2
}
