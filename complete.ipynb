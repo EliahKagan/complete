{
 "cells": [
  {
   "attachments": {},
   "cell_type": "markdown",
   "metadata": {},
   "source": [
    "# Story-writing with BLOOM\n",
    "\n",
    "SPDX-License-Identifier: 0BSD"
   ]
  },
  {
   "cell_type": "code",
   "execution_count": 1,
   "metadata": {},
   "outputs": [],
   "source": [
    "from complete import Completer"
   ]
  },
  {
   "cell_type": "code",
   "execution_count": 2,
   "metadata": {},
   "outputs": [],
   "source": [
    "bloom1 = Completer(\"\"\"\n",
    "Sometimes I marvel at how the sky contains no advertisements. Oh, sometimes\n",
    "someone goes up in a little plane and skywrites a birthday greeting. But the\n",
    "sky... you don’t have to watch an ad to see it.\n",
    "\n",
    "When people learn I fought in the war to free the sky, they say, “Thank you for\n",
    "\"\"\", temperature=1.0, top_k=30)"
   ]
  },
  {
   "cell_type": "code",
   "execution_count": 3,
   "metadata": {},
   "outputs": [
    {
     "name": "stdout",
     "output_type": "stream",
     "text": [
      "Sometimes I marvel at how the sky contains no advertisements. Oh,\n",
      "sometimes someone goes up in a little plane and skywrites a birthday\n",
      "greeting. But the sky... you don’t have to watch an ad to see it.\n",
      "\n",
      "When people learn I fought in the war to free the sky, they say,\n",
      "“Thank you for saving the world.” I don’t think the world was ever\n",
      "saved. I did my best, but even then there still were things to be\n",
      "afraid of. Some nights, when the sky is clear, I think I can still\n",
      "hear the whispers of the things that were in the shadows on those\n",
      "long, empty, sleepless nights. I don’t think the world was ever saved.\n",
      "But I fought my best and I have no regrets.\n",
      "\n",
      "I’m a little bit older now. The sky holds fewer mysteries. I no longer\n",
      "believe it is soothing to stand on the edge of something so large. I\n",
      "no longer believe when I look above me it is as if no one else is\n",
      "looking, no one ever has and will ever be looking. I’m an old man and\n",
      "I don’t think I believe in anything anymore, but I still fight. The\n",
      "battle of all battles is that of being still. I want you to know that\n",
      "I’m still fighting.\n",
      "\n",
      "I fought in a war that ended a hundred years ago. The sky is still my\n",
      "friend, my confidant of a hundred voices. And I have to fight for it\n",
      "every day. Because the world I fought for is still threatened, still\n",
      "in danger. Every morning when I wake up, I\n"
     ]
    }
   ],
   "source": [
    "bloom1()"
   ]
  },
  {
   "cell_type": "code",
   "execution_count": 4,
   "metadata": {},
   "outputs": [],
   "source": [
    "bloom2 = Completer(\"\"\"\n",
    "The color enforcers came around again. They ripped the cheese off our freshly\n",
    "baked pizza. The customers dropped their food and ran out.\n",
    "\n",
    "“Aha!” said the biggest, scariest henchman. “This sauce is red! We license the\n",
    "color red to you, but you haven’t been paying the license fees.” I quaked in\n",
    "fear. My grandfather had gotten both his knees busted by color enforcers.\n",
    "\"\"\")"
   ]
  },
  {
   "cell_type": "code",
   "execution_count": 10,
   "metadata": {},
   "outputs": [
    {
     "name": "stdout",
     "output_type": "stream",
     "text": [
      "The color enforcers came around again. They ripped the cheese off our\n",
      "freshly baked pizza. The customers dropped their food and ran out.\n",
      "\n",
      "“Aha!” said the biggest, scariest henchman. “This sauce is red! We\n",
      "license the color red to you, but you haven’t been paying the license\n",
      "fees.” I quaked in fear. My grandfather had gotten both his knees\n",
      "busted by color enforcers. He also had a bum arm. If I am ever lucky\n",
      "enough to have any grandchildren, I am going to make sure they know\n",
      "about paying license fees.\n",
      "\n",
      "“We’ll take the cheese,” said the enforcer. He ripped the pizza right\n",
      "out of our hands. The pizza box flew. It hit my head and knocked me\n",
      "out.\n",
      "\n",
      "When I woke up, it was dark. The pizza was gone. The restaurant had\n",
      "been painted red. Instead of a cute, yellow sun on the roof, there was\n",
      "a big, red sun. The color enforcer was now in front of me, smirking.\n",
      "\n",
      "“Don’t worry,” the enforcer said. “Next time you use that color,\n",
      "you’ll have to pay the license fee.”\n",
      "\n",
      "I opened my eyes. The color enforcer was gone. I was in my own room.\n",
      "In my bed. My parents were looking at me. The color enforcer hadn’t\n",
      "been real. It was all in my mind.\n",
      "\n",
      "I’ll never forget the first time I saw the color enforcers. I was five\n",
      "years old at the time. My parents took me to the restaurant. All the\n",
      "colors were still there—yellow, blue, green, and red. The sun was\n",
      "yellow. The flowers were\n"
     ]
    }
   ],
   "source": [
    "bloom2()"
   ]
  },
  {
   "cell_type": "code",
   "execution_count": 6,
   "metadata": {},
   "outputs": [],
   "source": [
    "bloom3 = Completer(\"\"\"\n",
    "Beverly understood how all the women in her family had fallen in love with this\n",
    "energy ghost who lived in a lamp and fed parasitically off their vital energy\n",
    "while making every carnal dream come to life. As a spacefaring physician,\n",
    "\"\"\")"
   ]
  },
  {
   "cell_type": "code",
   "execution_count": 7,
   "metadata": {},
   "outputs": [
    {
     "name": "stdout",
     "output_type": "stream",
     "text": [
      "Beverly understood how all the women in her family had fallen in love\n",
      "with this energy ghost who lived in a lamp and fed parasitically off\n",
      "their vital energy while making every carnal dream come to life. As a\n",
      "spacefaring physician, she knew that the best way to deal with these\n",
      "alien parasites was through physical intervention. Beverly stared down\n",
      "the dark glass at the parasitic lifeform, lined it up for a clean cut,\n",
      "and pulled out her scalpel. “Oh,” she said, “look at that.”\n",
      "\n",
      "She held a moment of silence and then said, “There are a number of\n",
      "ways that this could have gone.”\n",
      "\n",
      "I cut the cord and pulled the bulb out of the socket. My hand shook as\n",
      "it came undone. The lamp fell to the floor with a clatter. “Oh,” I\n",
      "said again. My voice was a bit higher than normal, and my eyes were\n",
      "wide. “Look at that.”\n",
      "\n",
      "The parasite fell from the bulb, stretching out and floating in the\n",
      "air. It took a moment for it to realize it was no longer being fed,\n",
      "and it began to slowly contract back into a bulb. I stared at it.\n",
      "“Well,” I said, “that’s that.”\n",
      "\n",
      "Beverly moved in front of me. She looked at the bulb. “Look,” she\n",
      "said, holding the bulb in her hand. “It’s gone.”\n",
      "\n",
      "I stared\n"
     ]
    }
   ],
   "source": [
    "bloom3()"
   ]
  },
  {
   "cell_type": "code",
   "execution_count": 8,
   "metadata": {},
   "outputs": [],
   "source": [
    "# From https://aclanthology.org/2020.acl-main.463.pdf, Appendix A.\n",
    "bloom4 = Completer(\"\"\"\n",
    "Robinson cried out, “Help! I’m being chased by a bear! All I have is these\n",
    "sticks. What should I do?” The survivalist said, “Here’s what you can do.\n",
    "\"\"\")"
   ]
  },
  {
   "cell_type": "code",
   "execution_count": 9,
   "metadata": {},
   "outputs": [
    {
     "name": "stdout",
     "output_type": "stream",
     "text": [
      "Robinson cried out, “Help! I’m being chased by a bear! All I have is\n",
      "these sticks. What should I do?” The survivalist said, “Here’s what\n",
      "you can do. When the bear is close enough, throw one of the sticks at\n",
      "it. If it runs away, you can run away too. If it doesn’t run away,\n",
      "then throw the other stick at it. I’m sure your problem will be\n",
      "solved.”\n",
      "\n",
      "I think this is a great example for managers. We need to be able to\n",
      "look at problems and situations with the proper perspective. Then, we\n",
      "need to provide our employees with the right solution. Sometimes, we\n",
      "will get the solution we were looking for. The employee can then be\n",
      "praised for a job well done. Other times, we will need to work\n",
      "together with the employee to find a better outcome. We need to be\n",
      "able to pivot and change our approach based on the situation at hand.\n",
      "\n",
      "Think about your work environment. Do you have a plan for solving\n",
      "problems? Do you have a technique to implement improvements? Are you\n",
      "looking for ways to continue to improve your business? Are you looking\n",
      "for ways to improve your employees’ performance? Do you look for\n",
      "opportunities to enhance your own performance? Do you have a plan or\n",
      "do you just react to whatever comes along?\n"
     ]
    }
   ],
   "source": [
    "bloom4()"
   ]
  },
  {
   "cell_type": "code",
   "execution_count": null,
   "metadata": {},
   "outputs": [],
   "source": []
  }
 ],
 "metadata": {
  "kernelspec": {
   "display_name": "complete-OCGV64OY",
   "language": "python",
   "name": "python3"
  },
  "language_info": {
   "codemirror_mode": {
    "name": "ipython",
    "version": 3
   },
   "file_extension": ".py",
   "mimetype": "text/x-python",
   "name": "python",
   "nbconvert_exporter": "python",
   "pygments_lexer": "ipython3",
   "version": "3.11.3"
  },
  "orig_nbformat": 4,
  "vscode": {
   "interpreter": {
    "hash": "2e7d42f8e86dbfe711bd671ab1851195badbe7a0e04157c9a4b4633af7ecfff9"
   }
  }
 },
 "nbformat": 4,
 "nbformat_minor": 2
}
