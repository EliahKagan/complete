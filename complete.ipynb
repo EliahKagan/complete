{
 "cells": [
  {
   "attachments": {},
   "cell_type": "markdown",
   "metadata": {},
   "source": [
    "# Story-writing with BLOOM\n",
    "\n",
    "SPDX-License-Identifier: 0BSD"
   ]
  },
  {
   "cell_type": "code",
   "execution_count": 1,
   "metadata": {},
   "outputs": [],
   "source": [
    "from complete import Completer"
   ]
  },
  {
   "cell_type": "code",
   "execution_count": 2,
   "metadata": {},
   "outputs": [],
   "source": [
    "bloom1 = Completer(\"\"\"\n",
    "Sometimes I marvel at how the sky contains no advertisements. Oh, sometimes\n",
    "someone goes up in a little plane and skywrites a birthday greeting. But the\n",
    "sky... you don’t have to watch an ad to see it.\n",
    "\n",
    "When people learn I fought in the war to free the sky, they say, “Thank you for\n",
    "\"\"\", temperature=1.0, top_k=30)"
   ]
  },
  {
   "cell_type": "code",
   "execution_count": 11,
   "metadata": {},
   "outputs": [
    {
     "name": "stdout",
     "output_type": "stream",
     "text": [
      "Sometimes I marvel at how the sky contains no advertisements. Oh,\n",
      "sometimes someone goes up in a little plane and skywrites a birthday\n",
      "greeting. But the sky... you don’t have to watch an ad to see it.\n",
      "\n",
      "When people learn I fought in the war to free the sky, they say,\n",
      "“Thank you for your service!” And I always think, “No. Thank you for\n",
      "freeing the sky. No, I didn’t do anything. It’s just been that way\n",
      "since the beginning—you just never noticed.”\n",
      "\n",
      "A little boy was on his way home in his convertible when he\n",
      "accidentally ran into a lady with her car. The lady stopped the boy\n",
      "sternly and said, “What do you mean you were not driving your car?”\n",
      "The little boy replied, “Actually, it was your car.” The lady asked\n",
      "incredulously, “How could that be? I haven’t even started driving\n",
      "yet.” The little boy then replied, “Actually, I hit someone else with\n",
      "her.”\n",
      "\n",
      "A doctor once told me that there was an epidemic, but I never gave it\n",
      "a thought: “What sort of epidemic?” I asked. “A kind of epidemic no-\n",
      "one wants,” he said. “And it’s going around, and I’m afraid you’re\n",
      "already infected. The name of the disease is ‘time’.” “I’m so sorry,”\n",
      "I said, “I didn’t realize.” The doctor assured me, “There’s no need to\n",
      "worry. The disease may be incurable. But the good news is that all\n",
      "your friends and family have it.” I thanked the doctor, who I saw\n",
      "several times in the hospital the following year.\n",
      "\n",
      "It’s true the world was once full of forests and animals and people\n",
      "never killed anything or ate anything. And one night, lightning struck\n",
      "the earth, and out of the storm rose a strange creature the size of a\n",
      "small cow that had eight legs and a big flat head. And this monster\n",
      "began to walk around the earth, and to eat one creature after another.\n",
      "People, dogs, horses—it never discriminated. Then came the cat, and\n",
      "the cat began hiding from the beast. Some dogs learned how to attack,\n",
      "others learned how to run. Some cats even began eating insects. But\n",
      "there were few dogs and cats still left. Finally, the last few were\n",
      "rounded up by the big beasty and eaten. This was what the doctor\n",
      "called the “epidemic.”\n",
      "\n",
      "There are times when I look at people and say, “I am not from this\n",
      "planet.” But they don’t believe me.\n",
      "\n",
      "I like when we look up at night. Sometimes I think, “How can we be in\n",
      "such perfect sync with the universe?” It couldn’t possibly work if\n",
      "someone wasn’t holding all this in a vise. I think I’m a little out of\n",
      "phase somehow.\n",
      "\n",
      "The clouds have become my family. Sometimes I go to the mountains and\n",
      "watch it for hours on end, staring, staring; I even feel its breath.\n",
      "Or maybe it’s mine. If it’s me it’s because I am so filled with wonder\n",
      "it has found a way into my heart.\n",
      "\n",
      "What kind of place is Earth? One where there are so many things I\n",
      "don’t understand? There is a part of me that believes that when I die\n",
      "I will simply become a cloud.\n",
      "\n",
      "I don’t think there is such a thing as the truth. I think everything\n",
      "is only a perception and that you decide, or have decided for you,\n",
      "what is true and what isn’t.\n",
      "\n",
      "I have become a citizen of the universe. I’m just one of millions who\n",
      "have made this choice. But I’ve come to realize that this doesn’t mean\n",
      "I don’t love the earth; it just means that I love the universe too.\n"
     ]
    }
   ],
   "source": [
    "bloom1()"
   ]
  },
  {
   "cell_type": "code",
   "execution_count": 4,
   "metadata": {},
   "outputs": [],
   "source": [
    "bloom2 = Completer(\"\"\"\n",
    "The color enforcers came around again. They ripped the cheese off our freshly\n",
    "baked pizza. The customers dropped their food and ran out.\n",
    "\n",
    "“Aha!” said the biggest, scariest henchman. “This sauce is red! We license the\n",
    "color red to you, but you haven’t been paying the license fees.” I quaked in\n",
    "fear. My grandfather had gotten both his knees busted by color enforcers.\n",
    "\"\"\")"
   ]
  },
  {
   "cell_type": "code",
   "execution_count": 5,
   "metadata": {},
   "outputs": [
    {
     "name": "stdout",
     "output_type": "stream",
     "text": [
      "The color enforcers came around again. They ripped the cheese off our\n",
      "freshly baked pizza. The customers dropped their food and ran out.\n",
      "\n",
      "“Aha!” said the biggest, scariest henchman. “This sauce is red! We\n",
      "license the color red to you, but you haven’t been paying the license\n",
      "fees.” I quaked in fear. My grandfather had gotten both his knees\n",
      "busted by color enforcers. What in the world would they do to us?\n",
      "\n",
      "Suddenly, a bald man in a black trench coat and black fedora flew into\n",
      "the restaurant. He pushed his way through the color enforcers and\n",
      "grabbed the henchman’s arm.\n",
      "\n",
      "“Not so fast, you murderous thug!” said the man. He grabbed the\n",
      "henchman by the collar and dropped him to the floor. “What the heck do\n",
      "you mean you license the color red to us? The color red belongs to me,\n",
      "and I mean to keep it.”\n",
      "\n",
      "The man turned to the color enforcers. “You have no right to touch my\n",
      "customers’ food. Especially when I am trying to buy it.”\n",
      "\n",
      "The color enforcers were stunned. The man had been trying to buy the\n",
      "pizza, but they weren’t letting him?\n"
     ]
    }
   ],
   "source": [
    "bloom2()"
   ]
  },
  {
   "cell_type": "code",
   "execution_count": 6,
   "metadata": {},
   "outputs": [],
   "source": [
    "bloom3 = Completer(\"\"\"\n",
    "Beverly understood how all the women in her family had fallen in love with this\n",
    "energy ghost who lived in a lamp and fed parasitically off their vital energy\n",
    "while making every carnal dream come to life. As a spacefaring physician,\n",
    "\"\"\")"
   ]
  },
  {
   "cell_type": "code",
   "execution_count": 7,
   "metadata": {},
   "outputs": [
    {
     "name": "stdout",
     "output_type": "stream",
     "text": [
      "Beverly understood how all the women in her family had fallen in love\n",
      "with this energy ghost who lived in a lamp and fed parasitically off\n",
      "their vital energy while making every carnal dream come to life. As a\n",
      "spacefaring physician, Beverly had herself seen many of these\n",
      "parasitic creatures feeding off the vital energy of the people of the\n",
      "Earth. They were called Draculians. They were not human, but were\n",
      "energy parasites that lived off of the human race. They would eat off\n",
      "of the vital energy of human beings, making the parasitic energy that\n",
      "lived in them grow and spread out. However, they would leave the host\n",
      "human beings living, but the energy vampire would take on a new\n",
      "physical form and continue to feed off of the human race.\n"
     ]
    }
   ],
   "source": [
    "bloom3()"
   ]
  },
  {
   "cell_type": "code",
   "execution_count": 8,
   "metadata": {},
   "outputs": [],
   "source": [
    "# From https://aclanthology.org/2020.acl-main.463.pdf, Appendix A.\n",
    "bloom4 = Completer(\"\"\"\n",
    "Robinson cried out, “Help! I’m being chased by a bear! All I have is these\n",
    "sticks. What should I do?” The survivalist said, “Here’s what you can do.\n",
    "\"\"\")"
   ]
  },
  {
   "cell_type": "code",
   "execution_count": 9,
   "metadata": {},
   "outputs": [
    {
     "name": "stdout",
     "output_type": "stream",
     "text": [
      "Robinson cried out, “Help! I’m being chased by a bear! All I have is\n",
      "these sticks. What should I do?” The survivalist said, “Here’s what\n",
      "you can do. Make a fire.” So, Robinson started to make a fire but the\n",
      "fire wasn’t really affecting the bear. The survivalist then said, “Run\n",
      "faster!” Robinson tried to run faster and the bear was still not\n",
      "tiring. The survivalist then said, “Run uphill. That should tire him\n",
      "out!” So Robinson picked up the sticks and started to run uphill. The\n",
      "bear was still not tiring. Robinson then said, “I’m not going to make\n",
      "it.” The survivalist said, “There’s only one thing you can do.”\n",
      "Robinson replied, “What?” The survivalist replied, “Turn around and\n",
      "run downhill.”\n",
      "\n",
      "The story above is funny, but it also shows how a simple rule can be\n",
      "applied to many different situations. The survivalist gave one simple\n",
      "rule, “Turn around and run downhill,” and Robinson applied it to the\n",
      "bear, the fire, and even to his own situation. He applied the\n",
      "survivalist’s rule to make himself feel better.\n",
      "\n",
      "The survivalist knew that Robinson was going to be eaten by the bear,\n",
      "but he didn’t tell him that. He just told him to turn around and run\n",
      "downhill. But if Robinson had known\n"
     ]
    }
   ],
   "source": [
    "bloom4()"
   ]
  },
  {
   "cell_type": "code",
   "execution_count": null,
   "metadata": {},
   "outputs": [],
   "source": []
  }
 ],
 "metadata": {
  "kernelspec": {
   "display_name": "complete-OCGV64OY",
   "language": "python",
   "name": "python3"
  },
  "language_info": {
   "codemirror_mode": {
    "name": "ipython",
    "version": 3
   },
   "file_extension": ".py",
   "mimetype": "text/x-python",
   "name": "python",
   "nbconvert_exporter": "python",
   "pygments_lexer": "ipython3",
   "version": "3.11.5"
  },
  "orig_nbformat": 4,
  "vscode": {
   "interpreter": {
    "hash": "2e7d42f8e86dbfe711bd671ab1851195badbe7a0e04157c9a4b4633af7ecfff9"
   }
  }
 },
 "nbformat": 4,
 "nbformat_minor": 2
}
