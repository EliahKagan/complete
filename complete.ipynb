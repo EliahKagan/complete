{
 "cells": [
  {
   "cell_type": "code",
   "execution_count": 1,
   "metadata": {},
   "outputs": [],
   "source": [
    "import functools\n",
    "import random\n",
    "import textwrap\n",
    "\n",
    "from huggingface_hub import InferenceApi"
   ]
  },
  {
   "cell_type": "code",
   "execution_count": 2,
   "metadata": {},
   "outputs": [],
   "source": [
    "class CompletionError(Exception):\n",
    "    \"\"\"An error in attempting to complete text with BLOOM.\"\"\"\n",
    "    pass"
   ]
  },
  {
   "cell_type": "code",
   "execution_count": 3,
   "metadata": {},
   "outputs": [],
   "source": [
    "class UnexpectedResponseError(AssertionError):\n",
    "    \"\"\"An unexpected error completing text. Probably a bug.\"\"\"\n",
    "    pass"
   ]
  },
  {
   "cell_type": "code",
   "execution_count": 4,
   "metadata": {},
   "outputs": [],
   "source": [
    "class Supplier:\n",
    "    \"\"\"As the value of a BLOOM parameter, is called instead of used.\"\"\"\n",
    "\n",
    "    __slots__ = ('_func',)\n",
    "\n",
    "    __match_args__ = ('_func',)\n",
    "\n",
    "    def __init__(self, func):\n",
    "        self._func = func\n",
    "    \n",
    "    def __repr__(self):\n",
    "        return f'{type(self).__name__}({self._func!r})'\n",
    "    \n",
    "    def __call__(self):\n",
    "        return self._func()"
   ]
  },
  {
   "cell_type": "code",
   "execution_count": 5,
   "metadata": {},
   "outputs": [],
   "source": [
    "@functools.cache\n",
    "def _get_inference_api():\n",
    "    with open('.hf_token', encoding='utf-8') as file:\n",
    "        api_token = file.read().strip()\n",
    "\n",
    "    return InferenceApi(repo_id='bigscience/bloom', token=api_token)"
   ]
  },
  {
   "cell_type": "code",
   "execution_count": 6,
   "metadata": {},
   "outputs": [],
   "source": [
    "class Completer:\n",
    "    \"\"\"High-level interface to Bloom completion.\"\"\"\n",
    "\n",
    "    __slots__ = ('_inference', '_text', '__dict__')\n",
    "\n",
    "    def __init__(self, prompt, **parameters):\n",
    "        \"\"\"Create a completer for the given prompt and optional parameters.\"\"\"\n",
    "        self._inference = _get_inference_api()\n",
    "        self.text = prompt\n",
    "\n",
    "        if any(name.startswith('_') for name in parameters):\n",
    "            raise TypeError('cannot set parameter name with leading \"_\"')\n",
    "        \n",
    "        self._set_defaults()\n",
    "        self.__dict__.update(parameters)\n",
    "\n",
    "    def __str__(self):\n",
    "        \"\"\"Prettified version of the text stored so far.\"\"\"\n",
    "        raw = self.text.strip().split('\\n')\n",
    "        pretty = ('\\n'.join(textwrap.wrap(graf)) for graf in raw)\n",
    "        return '\\n\\n'.join(pretty)\n",
    "    \n",
    "    @property\n",
    "    def text(self):\n",
    "        \"\"\"The prompt plus any appended completions.\"\"\"\n",
    "        return self._text\n",
    "    \n",
    "    @text.setter\n",
    "    def text(self, value):\n",
    "        if not isinstance(value, str):\n",
    "            raise TypeError('prompt must be a string')\n",
    "        if not value:\n",
    "            raise ValueError('prompt must be nonempty')\n",
    "        self._text = value\n",
    "\n",
    "    def __call__(self):\n",
    "        \"\"\"Attempt to complete the stored text, and print all text so far.\"\"\"\n",
    "        self.complete()\n",
    "        print(self)\n",
    "    \n",
    "    def complete(self):\n",
    "        \"\"\"Attempt to complete the stored text, but do not print anything.\"\"\"\n",
    "        match self._inference(inputs=self.text, params=self._build_params()):\n",
    "            case [{'generated_text': completion}]:\n",
    "                self._text = completion  # Whatever BLOOM returns, we accept.\n",
    "            case {'error': [*errors]}:\n",
    "                raise CompletionError(*errors)\n",
    "            case other_response:\n",
    "                raise UnexpectedResponseError(other_response)\n",
    "    \n",
    "    def _set_defaults(self):\n",
    "        self.do_sample = True\n",
    "        self.max_new_tokens = 250\n",
    "        self.seed = Supplier(random.random)\n",
    "        self.temperature = 0.75\n",
    "    \n",
    "    def _build_params(self):\n",
    "        return {name: (value() if isinstance(value, Supplier) else value)\n",
    "                for name, value in sorted(self.__dict__.items())}\n"
   ]
  },
  {
   "cell_type": "code",
   "execution_count": 37,
   "metadata": {},
   "outputs": [],
   "source": [
    "bloom1 = Completer(\"\"\"\n",
    "The color enforcers came around again. They ripped the cheese off our freshly\n",
    "baked pizza. The customers dropped their food and ran out.\n",
    "\n",
    "\"Aha!\" said the biggest, scariest henchman. \"This sauce is red! We license the\n",
    "color red to you, but you haven't been paying the license fees.\" I quaked in\n",
    "fear. My grandfather had gotten both his knees busted by color enforcers.\n",
    "\"\"\".strip().replace('\\n', ' ').replace('  ', '\\n'))"
   ]
  },
  {
   "cell_type": "code",
   "execution_count": 38,
   "metadata": {},
   "outputs": [
    {
     "name": "stdout",
     "output_type": "stream",
     "text": [
      "The color enforcers came around again. They ripped the cheese off our\n",
      "freshly baked pizza. The customers dropped their food and ran out.\n",
      "\n",
      "\"Aha!\" said the biggest, scariest henchman. \"This sauce is red! We\n",
      "license the color red to you, but you haven't been paying the license\n",
      "fees.\" I quaked in fear. My grandfather had gotten both his knees\n",
      "busted by color enforcers. I made a mental note to never use red sauce\n",
      "again.\n",
      "\n",
      "I tried to convince him he was wrong. I told him we were licensed to\n",
      "use red and black. He looked at the paperwork, then looked back at me.\n",
      "\n",
      "I was getting really worried, but then the henchman got busy with\n",
      "another customer. I grabbed the paperwork and looked at it. It was\n",
      "dated 1993, but was valid for all time. I felt better.\n",
      "\n",
      "I went to the back of the store and asked the cook to make us some\n",
      "yellow sauce. The cook asked what we wanted it for. I said \"blue\n",
      "cheese.\"\n",
      "\n",
      "I thought of my family in Munchkinland. Potatoes are our staple food.\n",
      "But our potatoes had red and black seeds. My grandfather was going to\n",
      "be mad.\n",
      "\n",
      "I called the elves to come and help us. The elves said they had been\n",
      "trying to figure out our problem for weeks. They'd tried to bombard us\n",
      "with white light. They'd tried to blast us with bright colors. They'd\n",
      "even tried to give us a bowl of red and black. \"But,\" said the elves,\n",
      "\"it doesn't matter what we do. Potatoes are red and black seeds.\n"
     ]
    }
   ],
   "source": [
    "bloom1()"
   ]
  },
  {
   "cell_type": "code",
   "execution_count": 48,
   "metadata": {},
   "outputs": [],
   "source": [
    "bloom2 = Completer(\"\"\"\n",
    "Beverly understood how all the women in her family had fallen in love with this\n",
    "energy ghost who lived in a lamp and fed parasitically off their vital energy\n",
    "while making every carnal dream come to life. As a spacefaring physician\n",
    "\"\"\".strip().replace('\\n', ' '))"
   ]
  },
  {
   "cell_type": "code",
   "execution_count": 50,
   "metadata": {},
   "outputs": [
    {
     "name": "stdout",
     "output_type": "stream",
     "text": [
      "Beverly understood how all the women in her family had fallen in love\n",
      "with this energy ghost who lived in a lamp and fed parasitically off\n",
      "their vital energy while making every carnal dream come to life. As a\n",
      "spacefaring physician who had been unknowingly studying the effects of\n",
      "biologically compatible energy for years, Beverly knew exactly how to\n",
      "harness this power for herself. She had never wanted to be like her\n",
      "mother – a hopeless romantic. But she had wanted to be like her father\n",
      "– a man who knew how to get what he wanted. She would give this energy\n",
      "ghost whatever he wanted, and she would get what she needed. At that\n",
      "moment, Beverly decided that she was done with men.\n",
      "\n",
      "Beverly continued her research of the energy ghost. She trained to\n",
      "become an energy healer, and eventually became the best in the\n",
      "business. She learned to draw upon the power of the energy ghost to\n",
      "heal herself and to perform some of the most amazing feats of mental\n",
      "and physical prowess. Beverly was invincible. She was free. But, she\n",
      "wasn’t happy. She had nothing to do but help people. But people were\n",
      "boring. People were annoying. Beverly couldn’t wait to get to Stellar\n",
      "City and get it all over with.\n",
      "\n",
      "Beverly flew to Stellar City, arrived at the hotel, checked in and\n",
      "went to her room. As she turned to leave, she froze. The energy ghost\n",
      "was standing there, staring at her. As she approached, the energy\n",
      "ghost pulled her into a hug. She embraced the ghost and the ghost\n",
      "embraced her back. He sighed, and the feeling of contentment and peace\n",
      "washed over her. He kissed her cheek and said, “Welcome back, my\n",
      "love.”\n",
      "\n",
      "Beverly felt her heart skip a beat. She hadn’t heard that voice in\n",
      "years. It was the voice of her father, who had died years before in\n",
      "the war. That didn’t make sense. Her father was a soldier who had died\n",
      "honorably in battle. He had not been in love with a ghost. He had died\n",
      "fighting.\n",
      "\n",
      "The ghost was still standing there, staring at her. He slowly turned\n",
      "to say something to her, and Beverly was shocked to see that it was\n",
      "not her father.\n",
      "\n",
      "Beverly looked up at the ghost, and her face began to freeze in place.\n",
      "She looked at the ghost again, and her jaw dropped to the floor. She\n",
      "was staring at the ghost of a woman in her twenties, with long wavy\n",
      "black hair that fell to her thighs. She was wearing a red jacket and\n",
      "jeans. She had dark eyes and a smile that made her face look like\n"
     ]
    }
   ],
   "source": [
    "bloom2()"
   ]
  },
  {
   "cell_type": "code",
   "execution_count": null,
   "metadata": {},
   "outputs": [],
   "source": []
  }
 ],
 "metadata": {
  "kernelspec": {
   "display_name": "complete",
   "language": "python",
   "name": "python3"
  },
  "language_info": {
   "codemirror_mode": {
    "name": "ipython",
    "version": 3
   },
   "file_extension": ".py",
   "mimetype": "text/x-python",
   "name": "python",
   "nbconvert_exporter": "python",
   "pygments_lexer": "ipython3",
   "version": "3.11.0"
  },
  "orig_nbformat": 4,
  "vscode": {
   "interpreter": {
    "hash": "13c63dc78b483a1ea0bb4a72b50807d934daf9a79a145afd27a0baef18604501"
   }
  }
 },
 "nbformat": 4,
 "nbformat_minor": 2
}
