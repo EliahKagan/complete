{
 "cells": [
  {
   "attachments": {},
   "cell_type": "markdown",
   "metadata": {},
   "source": [
    "# Story-writing with BLOOM\n",
    "\n",
    "SPDX-License-Identifier: 0BSD"
   ]
  },
  {
   "cell_type": "code",
   "execution_count": 1,
   "metadata": {},
   "outputs": [],
   "source": [
    "from complete import Completer"
   ]
  },
  {
   "cell_type": "code",
   "execution_count": 2,
   "metadata": {},
   "outputs": [],
   "source": [
    "bloom1 = Completer(\"\"\"\n",
    "Sometimes I marvel at how the sky contains no advertisements. Oh, sometimes\n",
    "someone goes up in a little plane and skywrites a birthday greeting. But the\n",
    "sky... you don’t have to watch an ad to see it.\n",
    "\n",
    "When people learn I fought in the war to free the sky, they say, “Thank you for\n",
    "\"\"\", temperature=1.0, top_k=30)"
   ]
  },
  {
   "cell_type": "code",
   "execution_count": 3,
   "metadata": {},
   "outputs": [
    {
     "name": "stdout",
     "output_type": "stream",
     "text": [
      "Sometimes I marvel at how the sky contains no advertisements. Oh,\n",
      "sometimes someone goes up in a little plane and skywrites a birthday\n",
      "greeting. But the sky... you don’t have to watch an ad to see it.\n",
      "\n",
      "When people learn I fought in the war to free the sky, they say,\n",
      "“Thank you for your sacrifice.” And they are always surprised to hear\n",
      "me say, “I fought to keep ads from invading your sky.”\n",
      "\n",
      "“Well,” they say, “you made a real contribution to our national\n",
      "treasure. Of course, the sky is the United States.” They see my point.\n",
      "And we are both relieved they no longer see the sky as a billboard in\n",
      "the sky.\n",
      "\n",
      "What you have to understand is that the whole world is a billboard to\n",
      "those who know how to read it. I grew up in an advertising family. My\n",
      "father was a copywriter, and my mother ran the agency. I am a retired\n",
      "adman. I think I can speak for them. They are a very proud lot, and\n",
      "they love their work.\n",
      "\n",
      "The problem is that, before there was advertising, people got their\n",
      "messages from the sky. That is a hard argument for anybody. The sky is\n",
      "free; we are not. Advertising is very expensive. Yet advertising has\n",
      "to be paid for somehow – and that is the way the advertising people\n",
      "figure it.\n",
      "\n",
      "There was a time when a person’s only job in life was to get their\n",
      "name and product into all the skies. Everywhere. Day and night. You\n",
      "name the\n"
     ]
    }
   ],
   "source": [
    "bloom1()"
   ]
  },
  {
   "cell_type": "code",
   "execution_count": 4,
   "metadata": {},
   "outputs": [],
   "source": [
    "bloom2 = Completer(\"\"\"\n",
    "The color enforcers came around again. They ripped the cheese off our freshly\n",
    "baked pizza. The customers dropped their food and ran out.\n",
    "\n",
    "“Aha!” said the biggest, scariest henchman. “This sauce is red! We license the\n",
    "color red to you, but you haven’t been paying the license fees.” I quaked in\n",
    "fear. My grandfather had gotten both his knees busted by color enforcers.\n",
    "\"\"\")"
   ]
  },
  {
   "cell_type": "code",
   "execution_count": 5,
   "metadata": {},
   "outputs": [
    {
     "name": "stdout",
     "output_type": "stream",
     "text": [
      "The color enforcers came around again. They ripped the cheese off our\n",
      "freshly baked pizza. The customers dropped their food and ran out.\n",
      "\n",
      "“Aha!” said the biggest, scariest henchman. “This sauce is red! We\n",
      "license the color red to you, but you haven’t been paying the license\n",
      "fees.” I quaked in fear. My grandfather had gotten both his knees\n",
      "busted by color enforcers. They kept coming into his restaurant and\n",
      "destroying everything that was in the red.\n",
      "\n",
      "I had always thought my grandfather was the best chef in the world,\n",
      "but now that he was blind and deaf, I had to come up with new recipes.\n",
      "I grabbed the red sauce and threw it in the garbage.\n",
      "\n",
      "The henchman gave me a hard shove and I stumbled backward. Two thugs\n",
      "grabbed me by my arms and forced me into a car. The henchman who had\n",
      "given me the shove sat in the driver’s seat. He had a gun pointed at\n",
      "me.\n",
      "\n",
      "“But if you pay us $25,000, we’ll give you a license,” said the\n",
      "henchman. I looked at him and said, “I don’t want a license. I just\n",
      "want to make delicious food.”\n",
      "\n",
      "“And you don’t have to pay the $25,000, either,” said the henchman.\n",
      "“You just have to bribe the color license board to approve your\n",
      "product.”\n"
     ]
    }
   ],
   "source": [
    "bloom2()"
   ]
  },
  {
   "cell_type": "code",
   "execution_count": 6,
   "metadata": {},
   "outputs": [],
   "source": [
    "bloom3 = Completer(\"\"\"\n",
    "Beverly understood how all the women in her family had fallen in love with this\n",
    "energy ghost who lived in a lamp and fed parasitically off their vital energy\n",
    "while making every carnal dream come to life. As a spacefaring physician,\n",
    "\"\"\")"
   ]
  },
  {
   "cell_type": "code",
   "execution_count": 7,
   "metadata": {},
   "outputs": [
    {
     "name": "stdout",
     "output_type": "stream",
     "text": [
      "Beverly understood how all the women in her family had fallen in love\n",
      "with this energy ghost who lived in a lamp and fed parasitically off\n",
      "their vital energy while making every carnal dream come to life. As a\n",
      "spacefaring physician, she knew too well how the mind can play tricks\n",
      "on the body ... how our bodies can respond to our desires as if they\n",
      "were their own. But what she didn’t know was how far the mind could\n",
      "trick the body until she was seduced by the sexiest bedtime story of\n",
      "all.\n",
      "\n",
      "Sean was definitely not what I expected. I was expecting a true alpha\n",
      "male and a tsundere but that never happened. He was kind, caring, and\n",
      "loving when it came to Beverly. He was definitely sweet and just an\n",
      "all around good guy. He was down to Earth and even though he was a\n",
      "space pirate he never gave Beverly a hard time about it. I love how he\n",
      "wanted her to be happy and was trying to figure out a way to be with\n",
      "her. He was sweet and I loved how protective he was of her and wanted\n",
      "to do whatever it took to keep her safe.\n",
      "\n",
      "Beverly was a strong female character. She was smart, determined, and\n",
      "always knew what she wanted. I loved how she refused to give up on her\n",
      "dreams and always fought for what she wanted. I love how she was able\n",
      "to make the right decisions for herself and was able to know what she\n",
      "wanted. This story had me on the edge\n"
     ]
    }
   ],
   "source": [
    "bloom3()"
   ]
  },
  {
   "cell_type": "code",
   "execution_count": 8,
   "metadata": {},
   "outputs": [],
   "source": [
    "# From https://aclanthology.org/2020.acl-main.463.pdf, Appendix A.\n",
    "bloom4 = Completer(\"\"\"\n",
    "Robinson cried out, “Help! I’m being chased by a bear! All I have is these\n",
    "sticks. What should I do?” The survivalist said, “Here’s what you can do.\n",
    "\"\"\")"
   ]
  },
  {
   "cell_type": "code",
   "execution_count": 9,
   "metadata": {},
   "outputs": [
    {
     "name": "stdout",
     "output_type": "stream",
     "text": [
      "Robinson cried out, “Help! I’m being chased by a bear! All I have is\n",
      "these sticks. What should I do?” The survivalist said, “Here’s what\n",
      "you can do.”\n",
      "\n",
      "“Grab a stick and keep it in your hand. Aggressively move your hand\n",
      "back and forth in front of you. See if that will drive the bear away.”\n",
      "\n",
      "Robinson didn’t want to do that. He said, “Well, what should I do?”\n",
      "The survivalist said, “Use your imagination!” Robinson thought about\n",
      "it and said, “Okay. I’ll use my imagination.”\n",
      "\n",
      "Robinson said, “Let’s see. I have a stick in my hand. I can move it\n",
      "back and forth in front of me, aggressively. Oh! Now I’m using my\n",
      "imagination.”\n",
      "\n",
      "He said, “Well, Robinson, I have a voice that’s worth a thousand\n",
      "sticks. I want you to imagine that I’m talking to you.” Robinson\n",
      "thought about it and said, “Okay.”\n",
      "\n",
      "The survivalist said, “There is a bear chasing you. Are you\n",
      "terrified?” Robinson was shaking his head and said, “No, not really.”\n",
      "\n",
      "The survivalist said, “Good. Trust in me. I’m going to talk to you and\n",
      "tell you what you should do.”\n",
      "\n",
      "The survivalist said, “You’re being chased by a bear!\n"
     ]
    }
   ],
   "source": [
    "bloom4()"
   ]
  },
  {
   "cell_type": "code",
   "execution_count": null,
   "metadata": {},
   "outputs": [],
   "source": []
  }
 ],
 "metadata": {
  "kernelspec": {
   "display_name": "complete-OCGV64OY",
   "language": "python",
   "name": "python3"
  },
  "language_info": {
   "codemirror_mode": {
    "name": "ipython",
    "version": 3
   },
   "file_extension": ".py",
   "mimetype": "text/x-python",
   "name": "python",
   "nbconvert_exporter": "python",
   "pygments_lexer": "ipython3",
   "version": "3.11.4"
  },
  "orig_nbformat": 4,
  "vscode": {
   "interpreter": {
    "hash": "2e7d42f8e86dbfe711bd671ab1851195badbe7a0e04157c9a4b4633af7ecfff9"
   }
  }
 },
 "nbformat": 4,
 "nbformat_minor": 2
}
