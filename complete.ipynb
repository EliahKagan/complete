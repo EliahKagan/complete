{
 "cells": [
  {
   "attachments": {},
   "cell_type": "markdown",
   "metadata": {},
   "source": [
    "# Story-writing with BLOOM\n",
    "\n",
    "SPDX-License-Identifier: 0BSD"
   ]
  },
  {
   "cell_type": "code",
   "execution_count": 1,
   "metadata": {},
   "outputs": [],
   "source": [
    "from complete import Completer"
   ]
  },
  {
   "cell_type": "code",
   "execution_count": 2,
   "metadata": {},
   "outputs": [],
   "source": [
    "bloom1 = Completer(\"\"\"\n",
    "Sometimes I marvel at how the sky contains no advertisements. Oh, sometimes\n",
    "someone goes up in a little plane and skywrites a birthday greeting. But the\n",
    "sky... you don’t have to watch an ad to see it.\n",
    "\n",
    "When people learn I fought in the war to free the sky, they say, “Thank you for\n",
    "\"\"\", temperature=1.0, top_k=30)"
   ]
  },
  {
   "cell_type": "code",
   "execution_count": 3,
   "metadata": {},
   "outputs": [
    {
     "name": "stdout",
     "output_type": "stream",
     "text": [
      "Sometimes I marvel at how the sky contains no advertisements. Oh,\n",
      "sometimes someone goes up in a little plane and skywrites a birthday\n",
      "greeting. But the sky... you don’t have to watch an ad to see it.\n",
      "\n",
      "When people learn I fought in the war to free the sky, they say,\n",
      "“Thank you for your service.” They say it so naturally, so casually. I\n",
      "always feel a little embarrassed. I feel like the person who has to\n",
      "reply, “My pleasure.” Because no service was required to enjoy the\n",
      "sky. The sky’s presence has been constant. You always look and see a\n",
      "sky.\n",
      "\n",
      "A few months after I got out of the service, we all sat around the\n",
      "kitchen table and talked about what we’d like to see on the menu. I\n",
      "wanted something called a “Buffalo chicken sky pie” with fries. But my\n",
      "Mom said no. If you wanted to order sky pie, you could, but only with\n",
      "a meat pie. She wasn’t making me a substitute meal. She simply said,\n",
      "“You can’t really eat the sky.” I told her I thought I was. And I\n",
      "meant it.\n"
     ]
    }
   ],
   "source": [
    "bloom1()"
   ]
  },
  {
   "cell_type": "code",
   "execution_count": 4,
   "metadata": {},
   "outputs": [],
   "source": [
    "bloom2 = Completer(\"\"\"\n",
    "The color enforcers came around again. They ripped the cheese off our freshly\n",
    "baked pizza. The customers dropped their food and ran out.\n",
    "\n",
    "“Aha!” said the biggest, scariest henchman. “This sauce is red! We license the\n",
    "color red to you, but you haven’t been paying the license fees.” I quaked in\n",
    "fear. My grandfather had gotten both his knees busted by color enforcers.\n",
    "\"\"\")"
   ]
  },
  {
   "cell_type": "code",
   "execution_count": 5,
   "metadata": {},
   "outputs": [
    {
     "name": "stdout",
     "output_type": "stream",
     "text": [
      "The color enforcers came around again. They ripped the cheese off our\n",
      "freshly baked pizza. The customers dropped their food and ran out.\n",
      "\n",
      "“Aha!” said the biggest, scariest henchman. “This sauce is red! We\n",
      "license the color red to you, but you haven’t been paying the license\n",
      "fees.” I quaked in fear. My grandfather had gotten both his knees\n",
      "busted by color enforcers. One time, they rolled his car into a lake.\n",
      "\n",
      "“Yes,” I said. My grandfather came into the kitchen and put his arms\n",
      "around me. “This is how the world works now,” he said. “You have to\n",
      "pay extra for the color red. I’m not paying a dime more.”\n",
      "\n",
      "That henchman ripped the cheese off the pizza again. This time, he\n",
      "also took the pepperoni. My grandfather went berserk. His eyes bulged\n",
      "out, and he began to grow hair all over his body. He roared like a\n",
      "lion.\n",
      "\n",
      "The henchman ran out of the kitchen. I followed him. He climbed onto a\n",
      "motorcycle and sped off. I ran after it, swinging my arms as fast as I\n",
      "could.\n",
      "\n",
      "My grandfather grabbed me, lifted me up, and ran onto the motorcycle,\n",
      "too. I rode on my grandfather’s back. We rode through the streets of\n",
      "our town. People were throwing tomatoes at us. They stabbed us with\n",
      "kitchen knives.\n",
      "\n",
      "We rode through the countryside. The countryside was beautiful, but\n",
      "the color enforcers followed us. They threw rocks at us, and then they\n",
      "shot us with paintball guns.\n"
     ]
    }
   ],
   "source": [
    "bloom2()"
   ]
  },
  {
   "cell_type": "code",
   "execution_count": 6,
   "metadata": {},
   "outputs": [],
   "source": [
    "bloom3 = Completer(\"\"\"\n",
    "Beverly understood how all the women in her family had fallen in love with this\n",
    "energy ghost who lived in a lamp and fed parasitically off their vital energy\n",
    "while making every carnal dream come to life. As a spacefaring physician,\n",
    "\"\"\")"
   ]
  },
  {
   "cell_type": "code",
   "execution_count": 7,
   "metadata": {},
   "outputs": [
    {
     "name": "stdout",
     "output_type": "stream",
     "text": [
      "Beverly understood how all the women in her family had fallen in love\n",
      "with this energy ghost who lived in a lamp and fed parasitically off\n",
      "their vital energy while making every carnal dream come to life. As a\n",
      "spacefaring physician, she had seen many such cases in which the\n",
      "energies of two people had merged in a symbiotic relationship. It was\n",
      "almost always a bad idea.\n"
     ]
    }
   ],
   "source": [
    "bloom3()"
   ]
  },
  {
   "cell_type": "code",
   "execution_count": 8,
   "metadata": {},
   "outputs": [],
   "source": [
    "# From https://aclanthology.org/2020.acl-main.463.pdf, Appendix A.\n",
    "bloom4 = Completer(\"\"\"\n",
    "Robinson cried out, “Help! I’m being chased by a bear! All I have is these\n",
    "sticks. What should I do?” The survivalist said, “Here’s what you can do.\n",
    "\"\"\")"
   ]
  },
  {
   "cell_type": "code",
   "execution_count": 9,
   "metadata": {},
   "outputs": [
    {
     "name": "stdout",
     "output_type": "stream",
     "text": [
      "Robinson cried out, “Help! I’m being chased by a bear! All I have is\n",
      "these sticks. What should I do?” The survivalist said, “Here’s what\n",
      "you can do. Use the sticks to get the bear’s attention. Don’t let it\n",
      "get behind you. When the bear comes closer, strike it in the face with\n",
      "the stick. Then run for your life.”\n",
      "\n",
      "Robinson took the advice and began beating on the bear. The bear\n",
      "charged at him and he began running. He gained a little distance and\n",
      "he stopped to look back. The bear was still chasing him, but it was\n",
      "not as close as before. Robinson turned and beat on the bear again.\n",
      "The bear charged at him and he ran.\n",
      "\n",
      "Robinson beat on the bear and ran again. He gained more distance, then\n",
      "he stopped to look back. The bear was still chasing him, but it was\n",
      "not as close as before. Robinson turned and beat on the bear again.\n",
      "The bear charged at him and he ran. Robinson beat on the bear and ran\n",
      "again. He gained more distance, then he stopped to look back. The bear\n",
      "was still chasing him, but it was not as close as before. Robinson\n",
      "turned and beat on the bear again. The bear charged at him and he ran.\n",
      "Robinson beat on the bear and ran again. He gained more distance, then\n",
      "he stopped to look back. The bear was still chasing\n"
     ]
    }
   ],
   "source": [
    "bloom4()"
   ]
  },
  {
   "cell_type": "code",
   "execution_count": null,
   "metadata": {},
   "outputs": [],
   "source": []
  }
 ],
 "metadata": {
  "kernelspec": {
   "display_name": "complete-OCGV64OY",
   "language": "python",
   "name": "python3"
  },
  "language_info": {
   "codemirror_mode": {
    "name": "ipython",
    "version": 3
   },
   "file_extension": ".py",
   "mimetype": "text/x-python",
   "name": "python",
   "nbconvert_exporter": "python",
   "pygments_lexer": "ipython3",
   "version": "3.11.4"
  },
  "orig_nbformat": 4,
  "vscode": {
   "interpreter": {
    "hash": "2e7d42f8e86dbfe711bd671ab1851195badbe7a0e04157c9a4b4633af7ecfff9"
   }
  }
 },
 "nbformat": 4,
 "nbformat_minor": 2
}
